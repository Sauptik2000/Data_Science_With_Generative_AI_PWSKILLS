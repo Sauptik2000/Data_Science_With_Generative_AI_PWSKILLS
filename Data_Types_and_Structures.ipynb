{
  "nbformat": 4,
  "nbformat_minor": 0,
  "metadata": {
    "colab": {
      "provenance": []
    },
    "kernelspec": {
      "name": "python3",
      "display_name": "Python 3"
    },
    "language_info": {
      "name": "python"
    }
  },
  "cells": [
    {
      "cell_type": "markdown",
      "source": [
        "# Data Types and Structures"
      ],
      "metadata": {
        "id": "RC9Q8n_ui5pX"
      }
    },
    {
      "cell_type": "markdown",
      "source": [
        "**1. What are data structures, and why are they important?**\n",
        "- In Python, **data structures** are ways to store and organize data for efficient access and manipulation. Common ones include:\n",
        "\n",
        "  - **Lists**: Ordered collection of items (can be modified).\n",
        "  - **Tuples**: Ordered, immutable collection of items.\n",
        "  - **Dictionaries**: Key-value pairs, allowing fast lookups.\n",
        "  - **Sets**: Unordered collection of unique items.\n",
        "\n",
        "- Importance:\n",
        "  - **Efficiency**: They allow fast data access and manipulation.\n",
        "  - **Optimization**: Help improve performance, especially with large data sets.\n",
        "  - **Problem-solving**: Different tasks require specific structures for optimal solutions.\n"
      ],
      "metadata": {
        "id": "f1b1b6DXjKYe"
      }
    },
    {
      "cell_type": "markdown",
      "source": [
        "**2.Explain the difference between mutable and immutable data types with examples**\n",
        "- In Python, **mutable** and **immutable** data types refer to whether the value or contents of an object can be changed after it is created.\n",
        "\n",
        "  1. **Mutable Data Types**:\n",
        "   - These can be modified after they are created.\n",
        "   - **Examples**: Lists, Dictionaries, Sets.\n",
        "   \n",
        "   **Example**:\n",
        "   ```python\n",
        "   my_list = [1, 2, 3]\n",
        "   my_list[0] = 10  # Modifying the list\n",
        "   print(my_list)  # Output: [10, 2, 3]\n",
        "   ```\n",
        "\n",
        "  2. **Immutable Data Types**:\n",
        "   - These cannot be changed after they are created. Any modification creates a new object.\n",
        "   - **Examples**: Integers, Strings, Tuples.\n",
        "\n",
        "   **Example**:\n",
        "   ```python\n",
        "   my_string = \"hello\"\n",
        "   my_string[0] = \"H\"  # This will raise an error because strings are immutable\n",
        "   ```\n",
        "- Key Differences:\n",
        "  - **Mutable**: Can be modified (e.g., list elements can be changed).\n",
        "  - **Immutable**: Cannot be modified after creation (e.g., you can't change individual characters in a string).\n"
      ],
      "metadata": {
        "id": "xfSAKONZnys4"
      }
    },
    {
      "cell_type": "markdown",
      "source": [
        "**3. What are the main differences between lists and tuples in Python**\n",
        "- The main differences between **lists** and **tuples** in Python are:\n",
        "\n",
        "- **Mutability**:\n",
        "   - **Lists** are **mutable**, meaning you can change, add, or remove elements after creation.\n",
        "   - **Tuples** are **immutable**, meaning once created, their elements cannot be modified.\n",
        "\n",
        "- **Syntax**:\n",
        "   - **Lists** are defined using square brackets: `[]`.\n",
        "   - **Tuples** are defined using parentheses: `()`.\n",
        "\n",
        "- **Performance**:\n",
        "   - **Lists** have more overhead due to their mutability, making them slightly slower.\n",
        "   - **Tuples** are more memory-efficient and faster because they are immutable.\n",
        "\n",
        "- **Methods**:\n",
        "   - **Lists** have several built-in methods for modification, like `append()`, `remove()`, etc.\n",
        "   - **Tuples** have fewer methods, as they cannot be changed once created (e.g., `count()` and `index()`).\n"
      ],
      "metadata": {
        "id": "WGQIkdE5pIJB"
      }
    },
    {
      "cell_type": "markdown",
      "source": [
        "**4. Describe how dictionaries store data**\n",
        "- Dictionaries in Python store data as **key-value pairs**. Each key is unique and is used to access its corresponding value. Internally, Python uses a **hash table** to store these key-value pairs, allowing for efficient lookups, additions, and deletions.\n",
        "\n",
        "- Key Points:\n",
        " - **Keys**: Must be **immutable** (e.g., strings, numbers, tuples).\n",
        " - **Values**: Can be **any data type** (e.g., lists, strings, integers).\n",
        " - **Hashing**: The keys are hashed to determine their storage location, making access to values very fast (average time complexity of O(1) for lookups).\n"
      ],
      "metadata": {
        "id": "e5P67cylvGM8"
      }
    },
    {
      "cell_type": "markdown",
      "source": [
        "**5. Why might you use a set instead of a list in Python**\n",
        "- We use a **set** instead of a **list** in Python when:\n",
        "  - We need **unique elements** (sets automatically remove duplicates).\n",
        "  - We want **faster membership testing** (sets are faster for checking if an item exists).\n",
        "  - We need to perform **set operations** like union, intersection, etc.\n",
        "\n",
        "- In contrast, we use a **list** when the order of elements matters and duplicates are allowed."
      ],
      "metadata": {
        "id": "7jvpCSCL2xwa"
      }
    },
    {
      "cell_type": "markdown",
      "source": [
        "**6. What is a string in Python, and how is it different from a list**\n",
        "- String in Python: A **string** in Python is a sequence of **characters** enclosed in single (`'`) or double (`\"`) quotes. It is used to represent textual data.\n",
        "\n",
        "  Example:\n",
        "```python\n",
        "my_string = \"Hello, World!\"\n",
        "```\n",
        "\n",
        "- Differences between String and List:\n",
        "  1. **Mutability**:\n",
        "   - **String**: **Immutable** (cannot be modified once created).\n",
        "   - **List**: **Mutable** (elements can be changed, added, or removed).\n",
        "\n",
        "  2. **Data Types**:\n",
        "   - **String**: Stores only **characters** (text).\n",
        "   - **List**: Can store **different data types** (e.g., integers, strings, objects).\n",
        "\n",
        "  3. **Operations**:\n",
        "   - **String**: Limited to text-related operations (e.g., slicing, concatenation, and methods like `upper()`).\n",
        "   - **List**: Supports a wide range of operations like modification (`append()`, `remove()`), and supports different types of elements.\n",
        "\n"
      ],
      "metadata": {
        "id": "LzmPgH8b3Nm3"
      }
    },
    {
      "cell_type": "markdown",
      "source": [
        "**7. How do tuples ensure data integrity in Python**\n",
        "- Tuples ensure **data integrity** in Python by being **immutable**. Once a tuple is created, its contents cannot be changed, added, or removed. This immutability guarantees that the data stored in a tuple remains **consistent and unchanged** throughout the program.\n",
        "\n",
        "- Key Points:\n",
        "  - **Immutability**: The data in a tuple cannot be modified after creation, ensuring it remains constant.\n",
        "  - **Hashable**: Tuples can be used as dictionary keys, further emphasizing their role in maintaining fixed data.\n",
        "  - **Safe for use in concurrent programming**: Since tuples cannot be altered, they are safer to use in scenarios where data consistency is critical.\n"
      ],
      "metadata": {
        "id": "lJoePoj24c33"
      }
    },
    {
      "cell_type": "markdown",
      "source": [
        "**8. What is a hash table, and how does it relate to dictionaries in Python**\n",
        "- A **hash table** is a data structure that stores data in an array-like format, where each data value (or \"key-value pair\") is mapped to a unique **hash** derived from its key. This hash determines the index at which the value is stored, allowing for fast data retrieval.\n",
        "\n",
        "- Relationship to Python Dictionaries:\n",
        "  - Python **dictionaries** are implemented using **hash tables**. When you store a key-value pair in a dictionary, Python calculates the **hash** of the key and uses that to determine where to store the associated value.\n",
        "  - The use of hash tables allows dictionaries to provide **average O(1) time complexity** for lookups, insertions, and deletions.\n"
      ],
      "metadata": {
        "id": "6OAI6sb559BD"
      }
    },
    {
      "cell_type": "markdown",
      "source": [
        "**9. Can lists contain different data types in Python**\n",
        "- Yes, **lists in Python can contain different data types**. A single list can store elements of various types, such as integers, strings, floats, and even other lists or objects.\n",
        "\n",
        "- Example:\n",
        "```python\n",
        "my_list = [1, \"hello\", 3.14, [2, 3], True]\n",
        "print(my_list)  # Output: [1, 'hello', 3.14, [2, 3], True]\n",
        "```\n"
      ],
      "metadata": {
        "id": "g1aqmdgV6iBU"
      }
    },
    {
      "cell_type": "markdown",
      "source": [
        "**10. Explain why strings are immutable in Python**\n",
        "- Strings are **immutable** in Python to ensure **data integrity** and **optimization**.\n",
        "\n",
        "- Key Reasons:\n",
        "  1. **Efficiency**: Immutable objects can be stored in memory more efficiently, and their hash values remain constant, making them faster for lookup operations (e.g., using strings as dictionary keys).\n",
        "   \n",
        "  2. **Safety**: Since strings cannot be modified after creation, they prevent accidental changes to the data, which helps maintain consistency in programs.\n",
        "\n",
        "  3. **Sharing**: Multiple variables can share the same string object, saving memory. When strings were mutable, changes in one reference could unintentionally affect others, but immutability avoids this problem.\n"
      ],
      "metadata": {
        "id": "nVplJ2oQ7fDq"
      }
    },
    {
      "cell_type": "markdown",
      "source": [
        "**11. What advantages do dictionaries offer over lists for certain tasks**\n",
        "- Dictionaries offer several advantages over lists for certain tasks:\n",
        "  \n",
        "  1. **Fast Lookups**:\n",
        "   - **Dictionaries** allow fast access to values using **keys** with average **O(1) time complexity**.\n",
        "   - **Lists** require **O(n)** time to search for an element by value.\n",
        "   \n",
        "  2. **Key-Value Pair Mapping**:\n",
        "   - **Dictionaries** store data as **key-value pairs**, making them ideal for tasks where you need to associate a unique key with a value (e.g., storing user data with unique identifiers).\n",
        "   - **Lists** store elements sequentially, which is less efficient for tasks that require association between data.\n",
        "\n",
        "  3. **Avoiding Duplicates**:\n",
        "   - In **dictionaries**, keys must be unique, ensuring no duplication.\n",
        "   - **Lists** allow duplicates and require additional steps to enforce uniqueness.\n"
      ],
      "metadata": {
        "id": "M34PRJjx75WH"
      }
    },
    {
      "cell_type": "markdown",
      "source": [
        "**12. Describe a scenario where using a tuple would be preferable over a list**\n",
        "- A **tuple** would be preferable over a **list** in scenarios where you need **immutable data** or want to ensure **data integrity**. For example:\n",
        "\n",
        "- Scenario:\n",
        " - **Storing coordinates**: If you have a set of geographical coordinates (latitude, longitude) that should never be modified after creation, a **tuple** ensures that the data remains unchanged, which is important for consistency.\n",
        "  \n",
        "- Example:\n",
        "```python\n",
        "# Tuple to store coordinates\n",
        "coordinates = (40.7128, -74.0060)  # (Latitude, Longitude)\n",
        "# The tuple ensures that the values cannot be modified, preventing accidental changes\n",
        "# coordinates[0] = 41.0  # This would raise an error\n",
        "```\n",
        "\n",
        "- Advantages:\n",
        "  - **Immutability** ensures the data cannot be altered, which is crucial for storing fixed values like dates, coordinates, or settings.\n",
        "  - **Performance**: Tuples are slightly more memory-efficient and faster than lists due to their immutability.\n"
      ],
      "metadata": {
        "id": "ipY-1ecE8Lr-"
      }
    },
    {
      "cell_type": "markdown",
      "source": [
        "**13. How do sets handle duplicate values in Python**\n",
        "- In Python, **sets automatically remove duplicate values**. A set only stores **unique elements**. If you try to add a duplicate value to a set, it will be ignored.\n",
        "\n",
        "- Example:\n",
        "```python\n",
        "my_set = {1, 2, 3, 3, 4}\n",
        "print(my_set)  # Output: {1, 2, 3, 4}\n",
        "```\n",
        "\n",
        "- How it works:\n",
        "  - When we add an element to a set, Python checks if it's already present. If it is, the set remains unchanged. This ensures that no duplicates are stored.\n"
      ],
      "metadata": {
        "id": "TbRTWhst8nOD"
      }
    },
    {
      "cell_type": "markdown",
      "source": [
        "**14. How does the “in” keyword work differently for lists and dictionaries**\n",
        "- The `in` keyword works differently for **lists** and **dictionaries** in Python based on what it checks for:\n",
        "\n",
        "1. **For Lists**:\n",
        "   - The `in` keyword checks if a **value** exists in the list.\n",
        "   - It iterates through the list to see if the specified value is present.\n",
        "   \n",
        "   **Example**:\n",
        "   ```python\n",
        "   my_list = [1, 2, 3, 4]\n",
        "   print(3 in my_list)  # Output: True\n",
        "   print(5 in my_list)  # Output: False\n",
        "   ```\n",
        "\n",
        "2. **For Dictionaries**:\n",
        "   - The `in` keyword checks if a **key** exists in the dictionary, not the value.\n",
        "   - It checks the dictionary's **keys** directly.\n",
        "\n",
        "   **Example**:\n",
        "   ```python\n",
        "   my_dict = {'name': 'John', 'age': 30}\n",
        "   print('name' in my_dict)  # Output: True (checks for key)\n",
        "   print(30 in my_dict)  # Output: False (since it's not a key, it's a value)\n",
        "   ```\n"
      ],
      "metadata": {
        "id": "v1XcsU7393mL"
      }
    },
    {
      "cell_type": "markdown",
      "source": [
        "**15. Can you modify the elements of a tuple? Explain why or why not**\n",
        "- No, we cannot modify the elements of a **tuple** in Python because tuples are **immutable**. Once a tuple is created, its elements cannot be changed, added, or removed.\n",
        "\n",
        "- Why?\n",
        "  - **Immutability**: Tuples are designed to be fixed and unchangeable. This ensures that their contents remain constant throughout the program, providing benefits like data integrity and performance optimization.\n",
        "  - Attempting to modify a tuple will raise an error.\n",
        "\n"
      ],
      "metadata": {
        "id": "6ejo10VC-OmS"
      }
    },
    {
      "cell_type": "markdown",
      "source": [
        "**16. What is a nested dictionary, and give an example of its use case**\n",
        "- A **nested dictionary** is a dictionary where one or more values are themselves dictionaries. It allows us to represent more complex data structures, such as hierarchical or multi-level data, within a dictionary.\n",
        "\n",
        "- Example:\n",
        "Consider a scenario where we store information about multiple students, including their personal details and grades:\n",
        "\n",
        "```python\n",
        "students = {\n",
        "    'student1': {\n",
        "        'name': 'Alice',\n",
        "        'age': 20,\n",
        "        'grades': {'math': 85, 'english': 90}\n",
        "    },\n",
        "    'student2': {\n",
        "        'name': 'Bob',\n",
        "        'age': 22,\n",
        "        'grades': {'math': 78, 'english': 88}\n",
        "    }\n",
        "}\n",
        "\n",
        "# Accessing nested values\n",
        "print(students['student1']['name'])  # Output: Alice\n",
        "print(students['student2']['grades']['math'])  # Output: 78\n",
        "```\n",
        "\n",
        "-  Use Case:\n",
        "  - **Nested dictionaries** are useful for storing and managing complex data, such as **user profiles**, **company structures**, or **product catalogs**, where each entry has multiple attributes or sub-categories.\n"
      ],
      "metadata": {
        "id": "MtSPw5wA-qlv"
      }
    },
    {
      "cell_type": "markdown",
      "source": [
        "**17. Describe the time complexity of accessing elements in a dictionary**\n",
        "- In Python, the time complexity of accessing elements in a **dictionary** is **O(1)** on average. This means that accessing a value by its **key** is very fast, regardless of the number of elements in the dictionary.\n",
        "\n",
        "- Why O(1)?\n",
        "  - Dictionaries in Python use **hash tables** internally. When you access a key, Python calculates its **hash** and directly accesses the corresponding value in constant time, typically without having to check every element in the dictionary.\n",
        "\n",
        "- Worst-case scenario:\n",
        "  - In rare cases (e.g., hash collisions), the time complexity could degrade to **O(n)**, where **n** is the number of elements in the dictionary, but this is an exceptional situation.\n"
      ],
      "metadata": {
        "id": "peFV2rup-8In"
      }
    },
    {
      "cell_type": "markdown",
      "source": [
        "**18. In what situations are lists preferred over dictionaries**\n",
        "- **Lists** are preferred over **dictionaries** in the following situations:\n",
        "\n",
        "- **Ordered Collection**:\n",
        "   - When the **order** of elements matters, as lists maintain the order in which items are added.\n",
        "   - **Example**: Storing a sequence of tasks or steps where the order is important.\n",
        "\n",
        "- **Index-based Access**:\n",
        "   - When you need to access elements by **index** rather than by a key.\n",
        "   - **Example**: Accessing elements in a specific position in a collection, such as a list of numbers.\n",
        "\n",
        "- **Homogeneous Data**:\n",
        "   - When the data is **mostly similar** or **of the same type**, and you don't need key-value pair mapping.\n",
        "   - **Example**: A list of integers representing ages or scores.\n",
        "\n",
        "- **Iteration**:\n",
        "   - When you need to **iterate** over the data in a predictable sequence without the need for fast lookups by keys.\n"
      ],
      "metadata": {
        "id": "4gqZVIcY_cPr"
      }
    },
    {
      "cell_type": "markdown",
      "source": [
        "**19. Why are dictionaries considered unordered, and how does that affect data retrieval**\n",
        "- Dictionaries in Python are considered **unordered** because the elements (key-value pairs) are stored in an arbitrary order. While Python 3.7+ maintains the insertion order of items, the primary concept behind dictionaries is that the elements are accessed via **keys**, not in a specific sequence.\n",
        "\n",
        "- How it affects data retrieval:\n",
        "  - **Efficient Retrieval**: Despite being unordered, dictionaries allow **fast, direct access to values** via keys (average **O(1)** time complexity). The unordered nature doesn't affect the speed of lookups since the key's hash determines where it is stored in memory.\n",
        "  \n",
        "  - **No Indexing**: Unlike lists, dictionaries don't support access via **indexing** (e.g., `my_dict[0]` is invalid). You must use the key for retrieval, not position.\n"
      ],
      "metadata": {
        "id": "XEQyf8QA_tmp"
      }
    },
    {
      "cell_type": "markdown",
      "source": [
        "**20. Explain the difference between a list and a dictionary in terms of data retrieval**\n",
        "- ### Difference in Data Retrieval:\n",
        "\n",
        "1. **List**:\n",
        "   - **Access by Index**: You retrieve elements using their **index** (position) in the list.\n",
        "   - **Order Matters**: The order of elements is preserved, so the position of each item is important.\n",
        "   - **Time Complexity**: Accessing an element by index is **O(1)**, but searching for a specific value can be **O(n)** if you don't know the index.\n",
        "\n",
        "2. **Dictionary**:\n",
        "   - **Access by Key**: You retrieve elements using a **key**, not an index.\n",
        "   - **Order Doesn't Affect Retrieval**: The order of key-value pairs doesn't impact retrieval; instead, keys are hashed to find their values quickly.\n",
        "   - **Time Complexity**: Accessing a value by key is typically **O(1)** (average case) due to hashing.\n",
        "\n"
      ],
      "metadata": {
        "id": "pQHQUXoBACAI"
      }
    },
    {
      "cell_type": "code",
      "source": [
        "# 1.Write a code to create a string with your name and print it\n",
        "\n",
        "name = 'Sauptik'\n",
        "\n",
        "print(name)"
      ],
      "metadata": {
        "colab": {
          "base_uri": "https://localhost:8080/"
        },
        "id": "Q6ksVc3yAX6W",
        "outputId": "25eff974-50a3-4ff6-8449-d9abde6e40ae"
      },
      "execution_count": 2,
      "outputs": [
        {
          "output_type": "stream",
          "name": "stdout",
          "text": [
            "Sauptik\n"
          ]
        }
      ]
    },
    {
      "cell_type": "code",
      "source": [
        "# 2.Write a code to find the length of the string \"Hello World\"\n",
        "\n",
        "str = 'Hello World'\n",
        "\n",
        "print('The length of string - \"Hello World\" is: ', len(str))"
      ],
      "metadata": {
        "colab": {
          "base_uri": "https://localhost:8080/"
        },
        "id": "EjJtqIbXA7Kt",
        "outputId": "6269e182-7b60-4266-ec90-86b6c97b6b52"
      },
      "execution_count": 6,
      "outputs": [
        {
          "output_type": "stream",
          "name": "stdout",
          "text": [
            "The length of string - \"Hello World\" is:  11\n"
          ]
        }
      ]
    },
    {
      "cell_type": "code",
      "source": [
        "# 3.Write a code to slice the first 3 characters from the string \"Python Programming\"\n",
        "\n",
        "str = \"Python Programming\"\n",
        "\n",
        "print(str[:3])"
      ],
      "metadata": {
        "colab": {
          "base_uri": "https://localhost:8080/"
        },
        "id": "VqAKtGU8BqBa",
        "outputId": "1d1bdcf2-6c7b-4c9c-db08-4592e6055f54"
      },
      "execution_count": 8,
      "outputs": [
        {
          "output_type": "stream",
          "name": "stdout",
          "text": [
            "Pyt\n"
          ]
        }
      ]
    },
    {
      "cell_type": "code",
      "source": [
        "# 4.Write a code to convert the string \"hello\" to uppercase\n",
        "\n",
        "str = 'hello'\n",
        "upperStr = str.upper()\n",
        "\n",
        "print(upperStr)"
      ],
      "metadata": {
        "colab": {
          "base_uri": "https://localhost:8080/"
        },
        "id": "dWb-jHS2CIGH",
        "outputId": "a80ad33d-7670-4a62-a856-33139180e8de"
      },
      "execution_count": 16,
      "outputs": [
        {
          "output_type": "stream",
          "name": "stdout",
          "text": [
            "HELLO\n"
          ]
        }
      ]
    },
    {
      "cell_type": "code",
      "source": [
        "# 5.Write a code to replace the word \"apple\" with \"orange\" in the string \"I like apple\"\n",
        "\n",
        "str = 'I like apple'\n",
        "newStr = str.replace('apple','orange')\n",
        "\n",
        "print(newStr)"
      ],
      "metadata": {
        "colab": {
          "base_uri": "https://localhost:8080/"
        },
        "id": "qNDBr9RECn3U",
        "outputId": "6f5d451b-df4c-476c-dc15-1347d912fcc1"
      },
      "execution_count": 17,
      "outputs": [
        {
          "output_type": "stream",
          "name": "stdout",
          "text": [
            "I like orange\n"
          ]
        }
      ]
    },
    {
      "cell_type": "code",
      "source": [
        "# 6.Write a code to create a list with numbers 1 to 5 and print it\n",
        "\n",
        "print(list(range(1,6)))"
      ],
      "metadata": {
        "colab": {
          "base_uri": "https://localhost:8080/"
        },
        "id": "Ao920khADEKK",
        "outputId": "35e056a5-88cb-4def-8462-a60a668cf074"
      },
      "execution_count": 22,
      "outputs": [
        {
          "output_type": "stream",
          "name": "stdout",
          "text": [
            "[1, 2, 3, 4, 5]\n"
          ]
        }
      ]
    },
    {
      "cell_type": "code",
      "source": [
        "# 7.Write a code to append the number 10 to the list [1, 2, 3, 4]\n",
        "\n",
        "li = [1, 2, 3, 4]\n",
        "li.append(10)\n",
        "\n",
        "print(li)"
      ],
      "metadata": {
        "colab": {
          "base_uri": "https://localhost:8080/"
        },
        "id": "1a5Y_7hjSJIr",
        "outputId": "c5ae94bd-ee2b-4fa7-dfd4-9a72a14dec78"
      },
      "execution_count": 23,
      "outputs": [
        {
          "output_type": "stream",
          "name": "stdout",
          "text": [
            "[1, 2, 3, 4, 10]\n"
          ]
        }
      ]
    },
    {
      "cell_type": "code",
      "source": [
        "# 8.Write a code to remove the number 3 from the list [1, 2, 3, 4, 5]\n",
        "\n",
        "li = [1, 2, 3, 4, 5]\n",
        "li.remove(3)\n",
        "\n",
        "print(li)"
      ],
      "metadata": {
        "colab": {
          "base_uri": "https://localhost:8080/"
        },
        "id": "DKfPFfaiSmDg",
        "outputId": "694f50f6-b7b2-43e1-c690-0743df0c3537"
      },
      "execution_count": 24,
      "outputs": [
        {
          "output_type": "stream",
          "name": "stdout",
          "text": [
            "[1, 2, 4, 5]\n"
          ]
        }
      ]
    },
    {
      "cell_type": "code",
      "source": [
        "# 9.Write a code to access the second element in the list ['a', 'b', 'c', 'd']\n",
        "\n",
        "li = ['a', 'b', 'c', 'd']\n",
        "\n",
        "print(li[1])"
      ],
      "metadata": {
        "colab": {
          "base_uri": "https://localhost:8080/"
        },
        "id": "NGHNqge8TAiW",
        "outputId": "6828bdca-d07d-4d84-cd41-57d7e50f5a9d"
      },
      "execution_count": 25,
      "outputs": [
        {
          "output_type": "stream",
          "name": "stdout",
          "text": [
            "b\n"
          ]
        }
      ]
    },
    {
      "cell_type": "code",
      "source": [
        "# 10.Write a code to reverse the list [10, 20, 30, 40, 50].\n",
        "\n",
        "li = [10, 20, 30, 40, 50]\n",
        "\n",
        "print(li[::-1])"
      ],
      "metadata": {
        "colab": {
          "base_uri": "https://localhost:8080/"
        },
        "id": "wlCHex3_TJlL",
        "outputId": "61e676d5-6aab-4d24-ca0d-c89c7becdd04"
      },
      "execution_count": 26,
      "outputs": [
        {
          "output_type": "stream",
          "name": "stdout",
          "text": [
            "[50, 40, 30, 20, 10]\n"
          ]
        }
      ]
    },
    {
      "cell_type": "code",
      "source": [
        "# 11.Write a code to create a tuple with the elements 100, 200, 300 and print it.\n",
        "\n",
        "tp = (100, 200, 300)\n",
        "\n",
        "print(tp)"
      ],
      "metadata": {
        "colab": {
          "base_uri": "https://localhost:8080/"
        },
        "id": "wUc73thqTUQ0",
        "outputId": "b0db1973-2a90-492a-9e4e-1ac922b5fe2f"
      },
      "execution_count": 27,
      "outputs": [
        {
          "output_type": "stream",
          "name": "stdout",
          "text": [
            "(100, 200, 300)\n"
          ]
        }
      ]
    },
    {
      "cell_type": "code",
      "source": [
        "# 12.Write a code to access the second-to-last element of the tuple ('red', 'green', 'blue', 'yellow').\n",
        "\n",
        "tp = ('red', 'green', 'blue', 'yellow')\n",
        "\n",
        "print(tp[-2])"
      ],
      "metadata": {
        "colab": {
          "base_uri": "https://localhost:8080/"
        },
        "id": "s-WT00TUTlUu",
        "outputId": "9810a3cf-3574-4d22-ab28-7f1bbb9d9ddf"
      },
      "execution_count": 28,
      "outputs": [
        {
          "output_type": "stream",
          "name": "stdout",
          "text": [
            "blue\n"
          ]
        }
      ]
    },
    {
      "cell_type": "code",
      "source": [
        "# 13.Write a code to find the minimum number in the tuple (10, 20, 5, 15).\n",
        "\n",
        "tp = (10, 20, 5, 15)\n",
        "\n",
        "print(min(tp))"
      ],
      "metadata": {
        "colab": {
          "base_uri": "https://localhost:8080/"
        },
        "id": "QM0nCLppT1gS",
        "outputId": "6967592e-4ccf-4f3f-fa41-d9861126833c"
      },
      "execution_count": 32,
      "outputs": [
        {
          "output_type": "stream",
          "name": "stdout",
          "text": [
            "5\n"
          ]
        }
      ]
    },
    {
      "cell_type": "code",
      "source": [
        "# 14.Write a code to find the index of the element \"cat\" in the tuple ('dog', 'cat', 'rabbit')\n",
        "\n",
        "tp = ('dog', 'cat', 'rabbit')\n",
        "\n",
        "print(tp.index('cat'))"
      ],
      "metadata": {
        "colab": {
          "base_uri": "https://localhost:8080/"
        },
        "id": "TJhTk4K8UgBH",
        "outputId": "1e9a9cd7-16b9-47a2-db3b-1f2d071b58a3"
      },
      "execution_count": 35,
      "outputs": [
        {
          "output_type": "stream",
          "name": "stdout",
          "text": [
            "1\n"
          ]
        }
      ]
    },
    {
      "cell_type": "code",
      "source": [
        "# 15.Write a code to create a tuple containing three different fruits and check if \"kiwi\" is in it\n",
        "\n",
        "tp = ('mango', 'kiwi', 'lemon')\n",
        "\n",
        "if 'kiwi' in tp:\n",
        "  print('Kiwi is present')\n",
        "else:\n",
        "  print('Kiwi is not present')"
      ],
      "metadata": {
        "colab": {
          "base_uri": "https://localhost:8080/"
        },
        "id": "DAw955yeU4Dk",
        "outputId": "f1d30157-0a55-4980-e437-b1f84da8f6a4"
      },
      "execution_count": 38,
      "outputs": [
        {
          "output_type": "stream",
          "name": "stdout",
          "text": [
            "Kiwi is present\n"
          ]
        }
      ]
    },
    {
      "cell_type": "code",
      "source": [
        "# 16.Write a code to create a set with the elements 'a', 'b', 'c' and print it\n",
        "\n",
        "st = {'a', 'b', 'c'}\n",
        "\n",
        "print(st)"
      ],
      "metadata": {
        "colab": {
          "base_uri": "https://localhost:8080/"
        },
        "id": "5BYIEeTuVlcX",
        "outputId": "fce2a6ae-f02a-47ab-9e40-a42668b57d80"
      },
      "execution_count": 39,
      "outputs": [
        {
          "output_type": "stream",
          "name": "stdout",
          "text": [
            "{'c', 'b', 'a'}\n"
          ]
        }
      ]
    },
    {
      "cell_type": "code",
      "source": [
        "# 17.Write a code to clear all elements from the set {1, 2, 3, 4, 5}\n",
        "\n",
        "st = {1, 2, 3, 4, 5}\n",
        "\n",
        "print(st.clear())"
      ],
      "metadata": {
        "colab": {
          "base_uri": "https://localhost:8080/"
        },
        "id": "f_CqowDlV14P",
        "outputId": "edd22d99-fe4d-4a92-c702-040f145386be"
      },
      "execution_count": 41,
      "outputs": [
        {
          "output_type": "stream",
          "name": "stdout",
          "text": [
            "None\n"
          ]
        }
      ]
    },
    {
      "cell_type": "code",
      "source": [
        "# 18.Write a code to remove the element 4 from the set {1, 2, 3, 4}\n",
        "\n",
        "st = {1, 2, 3, 4}\n",
        "st.remove(4)\n",
        "\n",
        "print(st)"
      ],
      "metadata": {
        "colab": {
          "base_uri": "https://localhost:8080/"
        },
        "id": "XokfiS3OWImd",
        "outputId": "b0b67ed4-ee59-4fd4-e98d-c65a49c9a715"
      },
      "execution_count": 43,
      "outputs": [
        {
          "output_type": "stream",
          "name": "stdout",
          "text": [
            "{1, 2, 3}\n"
          ]
        }
      ]
    },
    {
      "cell_type": "code",
      "source": [
        "# 19.Write a code to find the union of two sets {1, 2, 3} and {3, 4, 5}\n",
        "\n",
        "st1 = {1, 2, 3}\n",
        "st2 = {3, 4, 5}\n",
        "\n",
        "print(st1 | st2)"
      ],
      "metadata": {
        "colab": {
          "base_uri": "https://localhost:8080/"
        },
        "id": "W4Sj6YdNWXPV",
        "outputId": "b22d5df4-81da-4806-b41c-c7485363ae3b"
      },
      "execution_count": 44,
      "outputs": [
        {
          "output_type": "stream",
          "name": "stdout",
          "text": [
            "{1, 2, 3, 4, 5}\n"
          ]
        }
      ]
    },
    {
      "cell_type": "code",
      "source": [
        "# 20.Write a code to find the intersection of two sets {1, 2, 3} and {2, 3, 4}\n",
        "\n",
        "st1 = {1, 2, 3}\n",
        "st2 = {3, 4, 5}\n",
        "\n",
        "print(st1 & st2)"
      ],
      "metadata": {
        "colab": {
          "base_uri": "https://localhost:8080/"
        },
        "id": "jcsmBqK6Wqx6",
        "outputId": "e5c38c5d-9a08-4dc2-aec6-c931af264ac7"
      },
      "execution_count": 45,
      "outputs": [
        {
          "output_type": "stream",
          "name": "stdout",
          "text": [
            "{3}\n"
          ]
        }
      ]
    },
    {
      "cell_type": "code",
      "source": [
        "# 21.Write a code to create a dictionary with the keys \"name\", \"age\", and \"city\", and print it\n",
        "\n",
        "dic = {\n",
        "    'name': 'Ram',\n",
        "    'age': 24,\n",
        "    'city': 'Bangalore'\n",
        "    }\n",
        "\n",
        "print(dic)"
      ],
      "metadata": {
        "colab": {
          "base_uri": "https://localhost:8080/"
        },
        "id": "SxL9Ni_uW60R",
        "outputId": "821ea6bc-9dd0-4e18-a887-8e6f3a90f126"
      },
      "execution_count": 47,
      "outputs": [
        {
          "output_type": "stream",
          "name": "stdout",
          "text": [
            "{'name': 'Ram', 'age': 24, 'city': 'Bangalore'}\n"
          ]
        }
      ]
    },
    {
      "cell_type": "code",
      "source": [
        "# 22.Write a code to add a new key-value pair \"country\": \"USA\" to the dictionary {'name': 'John', 'age': 25}\n",
        "\n",
        "dict = {\n",
        "    'name': 'John',\n",
        "    'age': 25\n",
        "    }\n",
        "dict['country'] = \"USA\"\n",
        "\n",
        "print(dict)"
      ],
      "metadata": {
        "colab": {
          "base_uri": "https://localhost:8080/"
        },
        "id": "g2FXfC9qXTGo",
        "outputId": "f451993c-9487-4f05-cbef-7d9a285914f3"
      },
      "execution_count": 50,
      "outputs": [
        {
          "output_type": "stream",
          "name": "stdout",
          "text": [
            "{'name': 'John', 'age': 25, 'country': 'USA'}\n"
          ]
        }
      ]
    },
    {
      "cell_type": "code",
      "source": [
        "# 23.Write a code to access the value associated with the key \"name\" in the dictionary {'name': 'Alice', 'age': 30}\n",
        "\n",
        "dict = {'name': 'Alice', 'age': 30}\n",
        "\n",
        "print(dict['name'])"
      ],
      "metadata": {
        "colab": {
          "base_uri": "https://localhost:8080/"
        },
        "id": "6cBt4jRcX2qG",
        "outputId": "ea0bd8cc-d120-485e-eb43-0bfb19dbe92c"
      },
      "execution_count": 51,
      "outputs": [
        {
          "output_type": "stream",
          "name": "stdout",
          "text": [
            "Alice\n"
          ]
        }
      ]
    },
    {
      "cell_type": "code",
      "source": [
        "# 24.Write a code to remove the key \"age\" from the dictionary {'name': 'Bob', 'age': 22, 'city': 'New York'}\n",
        "\n",
        "dict = {'name': 'Bob', 'age': 22, 'city': 'New York'}\n",
        "dict.pop('age')\n",
        "\n",
        "print(dict)"
      ],
      "metadata": {
        "colab": {
          "base_uri": "https://localhost:8080/"
        },
        "id": "_iXbh04BYHr6",
        "outputId": "bfb5dea3-9e30-4a9e-b098-ac20a542d6c1"
      },
      "execution_count": 54,
      "outputs": [
        {
          "output_type": "stream",
          "name": "stdout",
          "text": [
            "{'name': 'Bob', 'city': 'New York'}\n"
          ]
        }
      ]
    },
    {
      "cell_type": "code",
      "source": [
        "# 25.Write a code to check if the key \"city\" exists in the dictionary {'name': 'Alice', 'city': 'Paris'}\n",
        "\n",
        "dict = {'name': 'Alice', 'city': 'Paris'}\n",
        "\n",
        "if 'city' in dict:\n",
        "    print(\"Key 'city' exists in the dictionary.\")\n",
        "else:\n",
        "    print(\"Key 'city' does not exist in the dictionary.\")\n"
      ],
      "metadata": {
        "colab": {
          "base_uri": "https://localhost:8080/"
        },
        "id": "O7B4mvehYlLi",
        "outputId": "ea5c6001-ce29-4bed-dbe7-47e2c9bb31f0"
      },
      "execution_count": 55,
      "outputs": [
        {
          "output_type": "stream",
          "name": "stdout",
          "text": [
            "Key 'city' exists in the dictionary.\n"
          ]
        }
      ]
    },
    {
      "cell_type": "code",
      "source": [
        "# 26.Write a code to create a list, a tuple, and a dictionary, and print them all\n",
        "\n",
        "ls = [1, 2, 3]\n",
        "st = {'a', 'b', 'c'}\n",
        "dic = {'name':'Ram', 'age':24}\n",
        "\n",
        "print(ls)\n",
        "print(st)\n",
        "print(dic)"
      ],
      "metadata": {
        "colab": {
          "base_uri": "https://localhost:8080/"
        },
        "id": "_pQxmHu1Y5Mm",
        "outputId": "d4488274-ff89-4ca5-bd09-7f25906254b2"
      },
      "execution_count": 56,
      "outputs": [
        {
          "output_type": "stream",
          "name": "stdout",
          "text": [
            "[1, 2, 3]\n",
            "{'c', 'b', 'a'}\n",
            "{'name': 'Ram', 'age': 24}\n"
          ]
        }
      ]
    },
    {
      "cell_type": "code",
      "source": [
        "# 27.Write a code to create a list of 5 random numbers between 1 and 100, sort it in ascending order, and print the result.(replaced)\n",
        "\n",
        "import random\n",
        "\n",
        "random_numbers = [random.randint(1, 100) for _ in range(5)]\n",
        "\n",
        "random_numbers.sort()\n",
        "\n",
        "print(random_numbers)\n"
      ],
      "metadata": {
        "colab": {
          "base_uri": "https://localhost:8080/"
        },
        "id": "dEHD-ihkZQ3d",
        "outputId": "24bdad19-f15c-4d10-a53e-3fc577f08ca6"
      },
      "execution_count": 60,
      "outputs": [
        {
          "output_type": "stream",
          "name": "stdout",
          "text": [
            "[25, 48, 74, 88, 88]\n"
          ]
        }
      ]
    },
    {
      "cell_type": "code",
      "source": [
        "# 28.Write a code to create a list with strings and print the element at the third index\n",
        "\n",
        "ls = ['ram', 'shyam', 'amit', 'raghav', 'prateek']\n",
        "\n",
        "print(ls[3])"
      ],
      "metadata": {
        "colab": {
          "base_uri": "https://localhost:8080/"
        },
        "id": "zhoEWZ7eZvJb",
        "outputId": "7fcb9042-ac2f-4d4d-e86d-1176b28e71e7"
      },
      "execution_count": 62,
      "outputs": [
        {
          "output_type": "stream",
          "name": "stdout",
          "text": [
            "raghav\n"
          ]
        }
      ]
    },
    {
      "cell_type": "code",
      "source": [
        "# 29.Write a code to combine two dictionaries into one and print the result\n",
        "\n",
        "dict1 = {'name': 'Alice', 'age': 25}\n",
        "dict2 = {'city': 'New York', 'country': 'USA'}\n",
        "\n",
        "dict1.update(dict2)\n",
        "\n",
        "print(dict1)"
      ],
      "metadata": {
        "colab": {
          "base_uri": "https://localhost:8080/"
        },
        "id": "siheBFvMaGg_",
        "outputId": "c7e54116-41d7-4909-ffd7-d640aa2d7208"
      },
      "execution_count": 63,
      "outputs": [
        {
          "output_type": "stream",
          "name": "stdout",
          "text": [
            "{'name': 'Alice', 'age': 25, 'city': 'New York', 'country': 'USA'}\n"
          ]
        }
      ]
    },
    {
      "cell_type": "code",
      "source": [
        "# 30.Write a code to convert a list of strings into a set.\n",
        "\n",
        "ls = ['ram', 'shyam', 'amit', 'raghav', 'prateek']\n",
        "st = set(ls)\n",
        "\n",
        "print(st)"
      ],
      "metadata": {
        "colab": {
          "base_uri": "https://localhost:8080/"
        },
        "id": "1XSnzBv0aT6P",
        "outputId": "07e22fa5-5c9a-44c7-a5e9-6badbfc0fd68"
      },
      "execution_count": 65,
      "outputs": [
        {
          "output_type": "stream",
          "name": "stdout",
          "text": [
            "{'amit', 'shyam', 'raghav', 'ram', 'prateek'}\n"
          ]
        }
      ]
    }
  ]
}