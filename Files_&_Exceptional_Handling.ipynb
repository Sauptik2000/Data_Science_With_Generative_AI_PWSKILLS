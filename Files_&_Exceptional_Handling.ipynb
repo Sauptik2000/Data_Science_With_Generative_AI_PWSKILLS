{
  "nbformat": 4,
  "nbformat_minor": 0,
  "metadata": {
    "colab": {
      "provenance": []
    },
    "kernelspec": {
      "name": "python3",
      "display_name": "Python 3"
    },
    "language_info": {
      "name": "python"
    }
  },
  "cells": [
    {
      "cell_type": "markdown",
      "source": [
        "# Files, exceptional handling, logging and memory management"
      ],
      "metadata": {
        "id": "K_3nmdL6spvx"
      }
    },
    {
      "cell_type": "markdown",
      "source": [
        "**1. What is the difference between interpreted and compiled languages**\n",
        "- Interpreted languages are executed line by line by an interpreter, while compiled languages are translated into machine code by a compiler before execution."
      ],
      "metadata": {
        "id": "5hMjt_-6subu"
      }
    },
    {
      "cell_type": "markdown",
      "source": [
        "**2. What is exception handling in Python**\n",
        "- Exception handling in Python is a way to manage errors using `try`, `except`, `else`, and `finally` blocks to prevent program crashes and handle errors gracefully."
      ],
      "metadata": {
        "id": "vEJLvpKxtM4x"
      }
    },
    {
      "cell_type": "markdown",
      "source": [
        "**3. What is the purpose of the finally block in exception handling**\n",
        "- The `finally` block ensures that certain code runs no matter what, even if an exception is raised and not caught. It’s useful for tasks like closing files, releasing locks, or cleaning up resources, ensuring that these actions happen whether an error occurs or not."
      ],
      "metadata": {
        "id": "gw06TPX3tX4h"
      }
    },
    {
      "cell_type": "markdown",
      "source": [
        "**4. What is logging in Python**\n",
        "- Logging in Python is a way to track events that happen during program execution. It allows developers to log messages at different severity levels (e.g., DEBUG, INFO, WARNING, ERROR, CRITICAL) to a file or console for debugging and monitoring purposes."
      ],
      "metadata": {
        "id": "N48m6r6LtlOy"
      }
    },
    {
      "cell_type": "markdown",
      "source": [
        "**5. What is the significance of the __del__ method in Python**\n",
        "- The `__del__` method in Python is a destructor used to clean up resources when an object is about to be destroyed. It’s called when an object’s reference count reaches zero, allowing for actions like closing files or releasing network connections. However, its use is generally discouraged because its timing is not guaranteed."
      ],
      "metadata": {
        "id": "YQLabCX2tv84"
      }
    },
    {
      "cell_type": "markdown",
      "source": [
        "**6. What is the difference between import and from ... import in Python**\n",
        "- `import` imports the entire module, requiring us to reference its functions or classes with the module name (e.g., `module.function()`).\n",
        "\n",
        "- `from ... import` imports specific attributes or functions from a module directly, allowing us to use them without the module name (e.g., `function()`)."
      ],
      "metadata": {
        "id": "NjAGTe2rt7xi"
      }
    },
    {
      "cell_type": "markdown",
      "source": [
        "**7. How can you handle multiple exceptions in Python**\n",
        "- We can handle multiple exceptions in Python by using multiple `except` blocks or by specifying multiple exception types in a single `except` block, separated by commas.\n",
        "\n",
        "Example:\n",
        "```python\n",
        "try:\n",
        "    # code that might raise an exception\n",
        "except (TypeError, ValueError) as e:\n",
        "    # handle both TypeError and ValueError\n",
        "    print(e)\n",
        "```"
      ],
      "metadata": {
        "id": "dWM_omPTuIx6"
      }
    },
    {
      "cell_type": "markdown",
      "source": [
        "**8. What is the purpose of the with statement when handling files in Python**\n",
        "- The `with` statement ensures that a file is properly opened and closed automatically, even if an error occurs. It simplifies file handling by managing resources and closing the file when done, preventing potential memory leaks or file lock issues.\n",
        "\n",
        "Example:\n",
        "```python\n",
        "with open('file.txt', 'r') as file:\n",
        "    content = file.read()\n",
        "```"
      ],
      "metadata": {
        "id": "Q8XILrv7uWy4"
      }
    },
    {
      "cell_type": "markdown",
      "source": [
        "**9. What is the difference between multithreading and multiprocessing**\n",
        "- **Multithreading** involves running multiple threads within a single process, sharing the same memory space, and is useful for I/O-bound tasks.\n",
        "\n",
        "- **Multiprocessing** involves running multiple processes, each with its own memory space, and is better suited for CPU-bound tasks to take advantage of multiple CPU cores."
      ],
      "metadata": {
        "id": "5NKwbhFyugiC"
      }
    },
    {
      "cell_type": "markdown",
      "source": [
        "**10. What are the advantages of using logging in a program**\n",
        "- Advantages of using logging in a program include:\n",
        "\n",
        "1. **Debugging**: Helps track and diagnose issues by recording events and errors.\n",
        "2. **Monitoring**: Provides insights into the program's runtime behavior and performance.\n",
        "3. **Persistence**: Logs can be saved to files, allowing you to review past events.\n",
        "4. **Severity Levels**: Helps categorize messages (e.g., DEBUG, INFO, ERROR) for better understanding.\n",
        "5. **Control**: You can easily enable/disable or redirect logs without modifying the code logic."
      ],
      "metadata": {
        "id": "t00Pd7XIupcw"
      }
    },
    {
      "cell_type": "markdown",
      "source": [
        "**11. What is memory management in Python**\n",
        "- Memory management in Python involves handling memory allocation and deallocation automatically using a built-in garbage collector. Python uses a **reference counting** mechanism to keep track of objects and their references, and when an object’s reference count drops to zero, it is deallocated. The **garbage collector** also handles cyclic references, freeing up memory when necessary."
      ],
      "metadata": {
        "id": "BQwHnFO-u1dg"
      }
    },
    {
      "cell_type": "markdown",
      "source": [
        "**12. What are the basic steps involved in exception handling in Python**\n",
        "- The basic steps in exception handling in Python are:\n",
        "\n",
        "1. **Try block**: Place the code that might raise an exception inside the `try` block.\n",
        "2. **Except block**: Handle the exception by catching it in the `except` block.\n",
        "3. **Else block** (optional): Code that runs if no exception occurs.\n",
        "4. **Finally block** (optional): Code that runs regardless of whether an exception occurs, typically for cleanup.\n",
        "\n",
        "Example:\n",
        "```python\n",
        "try:\n",
        "    # risky code\n",
        "except SomeException as e:\n",
        "    # handle exception\n",
        "else:\n",
        "    # run if no exception occurs\n",
        "finally:\n",
        "    # cleanup code\n",
        "```"
      ],
      "metadata": {
        "id": "ta21yySVu_TH"
      }
    },
    {
      "cell_type": "markdown",
      "source": [
        "**13. Why is memory management important in Python**\n",
        "- Memory management is important in Python because it ensures efficient use of system resources by automatically allocating and deallocating memory. This helps prevent memory leaks, improves performance, and ensures the program runs smoothly without running out of memory. The garbage collector handles unused objects, freeing up memory, which is crucial for long-running applications."
      ],
      "metadata": {
        "id": "WZJ7Yq6AvMDy"
      }
    },
    {
      "cell_type": "markdown",
      "source": [
        "**14. What is the role of try and except in exception handling**\n",
        "- In exception handling:\n",
        "\n",
        "- **`try`**: Contains the code that might raise an exception. If an error occurs, the program jumps to the corresponding `except` block.\n",
        "  \n",
        "- **`except`**: Catches and handles the exception raised in the `try` block, allowing the program to continue running instead of crashing."
      ],
      "metadata": {
        "id": "hsdjp_DVvmND"
      }
    },
    {
      "cell_type": "markdown",
      "source": [
        "**15. How does Python's garbage collection system work**\n",
        "- Python’s garbage collection system works through **reference counting** and a **cyclic garbage collector**.\n",
        "\n",
        "1. **Reference Counting**: Each object in Python has a reference count, which tracks how many references point to it. When the reference count drops to zero (i.e., no references to the object), it is immediately deallocated.\n",
        "\n",
        "2. **Cyclic Garbage Collector**: To handle circular references (where objects reference each other), Python uses a garbage collector that periodically looks for and cleans up cyclic references. This happens in the background, usually when a threshold of uncollected objects is reached.\n",
        "\n",
        "Together, these mechanisms automatically manage memory, reducing the need for manual memory management."
      ],
      "metadata": {
        "id": "_ZRmaqgnvt09"
      }
    },
    {
      "cell_type": "markdown",
      "source": [
        "**16. What is the purpose of the else block in exception handling**\n",
        "- The **`else`** block in exception handling runs only if no exceptions are raised in the **`try`** block. It allows you to specify code that should execute when the code in the **`try`** block completes successfully, without any errors.\n",
        "\n",
        "Example:\n",
        "```python\n",
        "try:\n",
        "    # code that might raise an exception\n",
        "except SomeException:\n",
        "    # handle the exception\n",
        "else:\n",
        "    # run if no exception occurs\n",
        "```"
      ],
      "metadata": {
        "id": "poMiyOQFv-IZ"
      }
    },
    {
      "cell_type": "markdown",
      "source": [
        "**17. What are the common logging levels in Python**\n",
        "- The common logging levels in Python, ordered from lowest to highest severity, are:\n",
        "\n",
        "1. **DEBUG**: Detailed information, typically useful for diagnosing problems.\n",
        "2. **INFO**: General information about the program’s operation.\n",
        "3. **WARNING**: Indicates a potential issue or something unexpected, but doesn't stop the program.\n",
        "4. **ERROR**: Indicates a more serious problem that has caused a part of the program to fail.\n",
        "5. **CRITICAL**: A very serious error that may cause the program to terminate.\n",
        "\n",
        "Each level captures different severities of messages, helping you filter and log the necessary details."
      ],
      "metadata": {
        "id": "_KCRzbbvwGpG"
      }
    },
    {
      "cell_type": "markdown",
      "source": [
        "**18. What is the difference between os.fork() and multiprocessing in Python**\n",
        "- **`os.fork()`**:\n",
        "  - Creates a child process by duplicating the parent process.\n",
        "  - Available only on Unix-based systems (Linux/macOS).\n",
        "  - Both the parent and child processes continue execution from the point of the fork.\n",
        "  - Not ideal for complex parallelism in Python due to limitations with resources like memory and handling multiple tasks.\n",
        "\n",
        "- **`multiprocessing`**:\n",
        "  - A higher-level, platform-independent module in Python that provides a way to create multiple processes.\n",
        "  - Allows for true parallelism by running processes in separate memory spaces (avoiding Global Interpreter Lock issues).\n",
        "  - Provides useful features like process pools, inter-process communication, and better control over processes."
      ],
      "metadata": {
        "id": "jOFYMuLUwQ2X"
      }
    },
    {
      "cell_type": "markdown",
      "source": [
        "**19. What is the importance of closing a file in Python**\n",
        "- Closing a file in Python is important because it:\n",
        "\n",
        "1. **Frees Resources**: It releases the file handle, making it available for other processes or programs.\n",
        "2. **Prevents Data Loss**: Ensures that all data is properly written to disk and not left in memory.\n",
        "3. **Avoids File Corruption**: Closing a file properly ensures no partial writes, reducing the risk of file corruption.\n",
        "4. **Prevents Memory Leaks**: Ensures the system doesn't run out of resources due to unclosed files.\n",
        "\n",
        "Using the `with` statement automatically handles closing files, making it more reliable."
      ],
      "metadata": {
        "id": "mdNtoH2kwkuS"
      }
    },
    {
      "cell_type": "markdown",
      "source": [
        "**20. What is the difference between file.read() and file.readline() in Python**\n",
        "- The difference between `file.read()` and `file.readline()` in Python:\n",
        "\n",
        "- **`file.read()`**: Reads the entire contents of a file as a single string.\n",
        "  \n",
        "  Example:\n",
        "  ```python\n",
        "  content = file.read()  # Reads the whole file\n",
        "  ```\n",
        "\n",
        "- **`file.readline()`**: Reads one line from the file at a time, returning it as a string.\n",
        "\n",
        "  Example:\n",
        "  ```python\n",
        "  line = file.readline()  # Reads one line from the file\n",
        "  ```\n",
        "\n",
        "- `read()` is useful for loading the whole file, while `readline()` is more efficient for processing the file line-by-line."
      ],
      "metadata": {
        "id": "KW3IoMSywvNC"
      }
    },
    {
      "cell_type": "markdown",
      "source": [
        "**21. What is the logging module in Python used for**\n",
        "- The **logging module** in Python is used to log messages from a program to track events, errors, and runtime information. It provides a flexible framework for recording logs at different severity levels (e.g., DEBUG, INFO, WARNING, ERROR, CRITICAL). This helps with debugging, monitoring, and analyzing the behavior of an application over time. The logs can be output to different destinations, such as the console, files, or external systems."
      ],
      "metadata": {
        "id": "BF2uUhERw6Ff"
      }
    },
    {
      "cell_type": "markdown",
      "source": [
        "**22. What is the os module in Python used for in file handling**\n",
        "- The **`os` module** in Python is used for interacting with the operating system, including file handling. Some of its common file-handling functions include:\n",
        "\n",
        "1. **`os.open()`**: Opens a file and returns a file descriptor (low-level operation).\n",
        "2. **`os.rename()`**: Renames a file or directory.\n",
        "3. **`os.remove()`**: Deletes a file.\n",
        "4. **`os.rmdir()`**: Removes an empty directory.\n",
        "5. **`os.makedirs()`**: Creates a directory, including any intermediate directories.\n",
        "6. **`os.path`**: Provides various functions for manipulating file paths, such as `os.path.exists()`, `os.path.join()`, `os.path.isdir()`, etc.\n",
        "\n",
        "- It allows us to perform tasks like file manipulation, directory management, and path handling in a platform-independent way."
      ],
      "metadata": {
        "id": "w6LlBCluxEBB"
      }
    },
    {
      "cell_type": "markdown",
      "source": [
        "**23. What are the challenges associated with memory management in Python**\n",
        "- Challenges associated with memory management in Python include:\n",
        "\n",
        "1. **Garbage Collection Overhead**: Python's garbage collector, while effective, can introduce performance overhead, especially when dealing with cyclic references or large amounts of memory.\n",
        "\n",
        "2. **Memory Leaks**: Despite automatic memory management, objects can still remain in memory due to circular references or forgotten references, leading to memory leaks.\n",
        "\n",
        "3. **High Memory Consumption**: Python's dynamic typing and object model can lead to higher memory usage compared to other languages, especially with large datasets.\n",
        "\n",
        "4. **Reference Counting Issues**: Python's reference counting can be inefficient in certain scenarios, particularly with complex object graphs, where circular references can be tricky to handle.\n",
        "\n",
        "5. **Fragmentation**: Memory fragmentation can occur as objects are created and deleted, which can cause inefficient use of memory over time.\n",
        "\n",
        "6. **Memory Management with External Libraries**: Some external libraries (e.g., NumPy or C extensions) manage memory outside Python’s garbage collector, which may require careful manual management to avoid conflicts or memory issues.\n",
        "\n",
        "- Despite these challenges, Python’s memory management system (with garbage collection and reference counting) works well for most applications, but developers need to be mindful of these potential issues, especially in memory-intensive or long-running programs."
      ],
      "metadata": {
        "id": "0QYgXWbNxRIS"
      }
    },
    {
      "cell_type": "markdown",
      "source": [
        "**24. How do you raise an exception manually in Python**\n",
        "- You can raise an exception manually in Python using the `raise` statement, followed by the exception type. You can also provide an optional error message or custom exception.\n",
        "\n",
        "Example:\n",
        "\n",
        "```python\n",
        "# Raising a built-in exception\n",
        "raise ValueError(\"Invalid value!\")\n",
        "\n",
        "# Raising a custom exception\n",
        "class CustomError(Exception):\n",
        "    pass\n",
        "\n",
        "raise CustomError(\"This is a custom error\")\n",
        "```\n",
        "\n",
        "This interrupts the program flow and triggers the corresponding exception handling mechanism (if any)."
      ],
      "metadata": {
        "id": "fk9-bDnwxgcN"
      }
    },
    {
      "cell_type": "markdown",
      "source": [
        "**25. Why is it important to use multithreading in certain applications**\n",
        "- Multithreading is important in certain applications because it allows for **concurrent execution** of tasks, which can lead to:\n",
        "\n",
        "1. **Improved Performance for I/O-bound Tasks**: Multithreading helps by allowing multiple I/O operations (like file reading, network requests) to run concurrently, reducing wait times and improving responsiveness.\n",
        "\n",
        "2. **Better Resource Utilization**: It allows efficient use of system resources, especially when there are multiple tasks that can run in parallel, like handling multiple client requests in a server application.\n",
        "\n",
        "3. **Increased Responsiveness**: In applications with a user interface, multithreading can keep the UI responsive by running long-running tasks in the background without freezing the interface.\n",
        "\n",
        "4. **Concurrency in Simultaneous Tasks**: For tasks that are independent and can run simultaneously, multithreading ensures better organization and performance by allowing them to run in parallel.\n",
        "\n",
        "- However, for CPU-bound tasks, **multiprocessing** is often preferred over multithreading due to Python's Global Interpreter Lock (GIL)."
      ],
      "metadata": {
        "id": "p_VeJQMxxphs"
      }
    },
    {
      "cell_type": "code",
      "source": [
        "#1. How can you open a file for writing in Python and write a string to it\n",
        "\n",
        "with open('file.txt', 'w') as file:\n",
        "    file.write(\"Hello, this is a test string.\")"
      ],
      "metadata": {
        "id": "-aH0rZyTx1c-"
      },
      "execution_count": 1,
      "outputs": []
    },
    {
      "cell_type": "code",
      "source": [
        "#2. Write a Python program to read the contents of a file and print each line\n",
        "\n",
        "with open('file.txt', 'r') as file:\n",
        "    for line in file:\n",
        "        print(line.strip())"
      ],
      "metadata": {
        "colab": {
          "base_uri": "https://localhost:8080/"
        },
        "id": "ZJqd7MrQyOlo",
        "outputId": "076a2a92-680f-45c2-cfea-88f3c62bc60f"
      },
      "execution_count": 2,
      "outputs": [
        {
          "output_type": "stream",
          "name": "stdout",
          "text": [
            "Hello, this is a test string.\n"
          ]
        }
      ]
    },
    {
      "cell_type": "code",
      "source": [
        "#3. How would you handle a case where the file doesn't exist while trying to open it for reading\n",
        "\n",
        "try:\n",
        "    with open('files.txt', 'r') as file:\n",
        "        content = file.read()\n",
        "        print(content)\n",
        "except FileNotFoundError:\n",
        "    print(\"The file does not exist.\")"
      ],
      "metadata": {
        "colab": {
          "base_uri": "https://localhost:8080/"
        },
        "id": "cyb7-k3eycYl",
        "outputId": "201a24ba-75b7-4472-cd62-80532a13b8e4"
      },
      "execution_count": 4,
      "outputs": [
        {
          "output_type": "stream",
          "name": "stdout",
          "text": [
            "The file does not exist.\n"
          ]
        }
      ]
    },
    {
      "cell_type": "code",
      "source": [
        "#4. Write a Python script that reads from one file and writes its content to another file\n",
        "\n",
        "with open('file.txt', 'r') as source_file:\n",
        "    content = source_file.read()\n",
        "\n",
        "with open('destination.txt', 'w') as dest_file:\n",
        "    dest_file.write(content)"
      ],
      "metadata": {
        "id": "tGdqkmSpymo6"
      },
      "execution_count": 7,
      "outputs": []
    },
    {
      "cell_type": "code",
      "source": [
        "#5. How would you catch and handle division by zero error in Python\n",
        "\n",
        "try:\n",
        "    result = 10 / 0\n",
        "except ZeroDivisionError:\n",
        "    print(\"Cannot divide by zero!\")\n"
      ],
      "metadata": {
        "colab": {
          "base_uri": "https://localhost:8080/"
        },
        "id": "EnQHgIY3y8I9",
        "outputId": "756d9fd3-ea28-41fd-85b4-3833a6c9fca1"
      },
      "execution_count": 8,
      "outputs": [
        {
          "output_type": "stream",
          "name": "stdout",
          "text": [
            "Cannot divide by zero!\n"
          ]
        }
      ]
    },
    {
      "cell_type": "code",
      "source": [
        "#6. Write a Python program that logs an error message to a log file when a division by zero exception occurs\n",
        "\n",
        "import logging\n",
        "\n",
        "logging.basicConfig(filename='error.log', level=logging.ERROR)\n",
        "\n",
        "try:\n",
        "    result = 10 / 0\n",
        "except ZeroDivisionError as e:\n",
        "    logging.error(f\"Error occurred: {e}\")"
      ],
      "metadata": {
        "colab": {
          "base_uri": "https://localhost:8080/"
        },
        "id": "IYcC7jtHzD03",
        "outputId": "99d76b5f-c5be-4ded-cac4-1bd43d670ada"
      },
      "execution_count": 10,
      "outputs": [
        {
          "output_type": "stream",
          "name": "stderr",
          "text": [
            "ERROR:root:Error occurred: division by zero\n"
          ]
        }
      ]
    },
    {
      "cell_type": "code",
      "source": [
        "#7. How do you log information at different levels (INFO, ERROR, WARNING) in Python using the logging module\n",
        "\n",
        "import logging\n",
        "\n",
        "logging.basicConfig(level=logging.DEBUG, filename='app.log', format='%(asctime)s - %(levelname)s - %(message)s')\n",
        "\n",
        "logging.debug(\"This is a debug message\")  # For debugging\n",
        "logging.info(\"This is an info message\")   # For general information\n",
        "logging.warning(\"This is a warning message\")  # For warnings\n",
        "logging.error(\"This is an error message\")  # For errors\n",
        "logging.critical(\"This is a critical message\")  # For critical errors\n"
      ],
      "metadata": {
        "id": "ZcLmPEAvzP4L"
      },
      "execution_count": 11,
      "outputs": []
    },
    {
      "cell_type": "code",
      "source": [
        "#8. Write a program to handle a file opening error using exception handling\n",
        "\n",
        "try:\n",
        "    with open('non_existent_file.txt', 'r') as file:\n",
        "        content = file.read()\n",
        "        print(content)\n",
        "except FileNotFoundError:\n",
        "    print(\"Error: The file does not exist.\")\n",
        "except Exception as e:\n",
        "    print(f\"An unexpected error occurred: {e}\")\n"
      ],
      "metadata": {
        "colab": {
          "base_uri": "https://localhost:8080/"
        },
        "id": "fHIhOFv0zMzd",
        "outputId": "eef7bab2-bcd8-4682-a958-11d2d7064c1f"
      },
      "execution_count": 12,
      "outputs": [
        {
          "output_type": "stream",
          "name": "stdout",
          "text": [
            "Error: The file does not exist.\n"
          ]
        }
      ]
    },
    {
      "cell_type": "code",
      "source": [
        "#9. How can you read a file line by line and store its content in a list in Python\n",
        "\n",
        "with open('file.txt', 'r') as file:\n",
        "    lines = file.readlines()\n",
        "\n",
        "print(lines)  # This will print the list of lines\n"
      ],
      "metadata": {
        "colab": {
          "base_uri": "https://localhost:8080/"
        },
        "id": "uYb26m4gzm8g",
        "outputId": "939b1255-4e01-49b0-94ca-7531c159d2e4"
      },
      "execution_count": 13,
      "outputs": [
        {
          "output_type": "stream",
          "name": "stdout",
          "text": [
            "['Hello, this is a test string.']\n"
          ]
        }
      ]
    },
    {
      "cell_type": "code",
      "source": [
        "#10. How can you append data to an existing file in Python\n",
        "\n",
        "with open('file.txt', 'a') as file:\n",
        "    file.write(\"This is the new data being appended.\\n\")\n"
      ],
      "metadata": {
        "id": "4TxzwOwnzulY"
      },
      "execution_count": 14,
      "outputs": []
    },
    {
      "cell_type": "code",
      "source": [
        "#11. Write a Python program that uses a try-except block to handle an error when attempting to access a dictionary key that doesn't exist\n",
        "\n",
        "my_dict = {'name': 'John', 'age': 30}\n",
        "\n",
        "try:\n",
        "    value = my_dict['address']\n",
        "except KeyError:\n",
        "    print(\"Error: The key 'address' does not exist in the dictionary.\")\n"
      ],
      "metadata": {
        "colab": {
          "base_uri": "https://localhost:8080/"
        },
        "id": "cgnrab6Xz2zW",
        "outputId": "aae2b935-e901-482b-f3fb-64db24cfb94b"
      },
      "execution_count": 15,
      "outputs": [
        {
          "output_type": "stream",
          "name": "stdout",
          "text": [
            "Error: The key 'address' does not exist in the dictionary.\n"
          ]
        }
      ]
    },
    {
      "cell_type": "code",
      "source": [
        "#12. Write a program that demonstrates using multiple except blocks to handle different types of exceptions\n",
        "\n",
        "try:\n",
        "    # Example of a ZeroDivisionError\n",
        "    result = 10 / 0\n",
        "except ZeroDivisionError:\n",
        "    print(\"Error: Cannot divide by zero.\")\n",
        "\n",
        "try:\n",
        "    # Example of a ValueError\n",
        "    number = int(\"abc\")\n",
        "except ValueError:\n",
        "    print(\"Error: Invalid value for conversion to integer.\")\n",
        "\n",
        "try:\n",
        "    # Example of a FileNotFoundError\n",
        "    with open(\"non_existent_file.txt\", 'r') as file:\n",
        "        content = file.read()\n",
        "except FileNotFoundError:\n",
        "    print(\"Error: File not found.\")\n"
      ],
      "metadata": {
        "colab": {
          "base_uri": "https://localhost:8080/"
        },
        "id": "PT5g878H0ABw",
        "outputId": "32ea853a-de54-41ef-9d5a-f65e2adc4fed"
      },
      "execution_count": 16,
      "outputs": [
        {
          "output_type": "stream",
          "name": "stdout",
          "text": [
            "Error: Cannot divide by zero.\n",
            "Error: Invalid value for conversion to integer.\n",
            "Error: File not found.\n"
          ]
        }
      ]
    },
    {
      "cell_type": "code",
      "source": [
        "#13. How would you check if a file exists before attempting to read it in Python\n",
        "\n",
        "import os\n",
        "\n",
        "file_path = 'file.txt'\n",
        "\n",
        "if os.path.exists(file_path):\n",
        "    with open(file_path, 'r') as file:\n",
        "        content = file.read()\n",
        "        print(content)\n",
        "else:\n",
        "    print(f\"The file {file_path} does not exist.\")\n"
      ],
      "metadata": {
        "colab": {
          "base_uri": "https://localhost:8080/"
        },
        "id": "EWvJcZWQ0JOP",
        "outputId": "c1ee5bc9-a99d-4128-9e46-fc8c85a0f4f8"
      },
      "execution_count": 17,
      "outputs": [
        {
          "output_type": "stream",
          "name": "stdout",
          "text": [
            "Hello, this is a test string.This is the new data being appended.\n",
            "\n"
          ]
        }
      ]
    },
    {
      "cell_type": "code",
      "source": [
        "#14. Write a program that uses the logging module to log both informational and error messages\n",
        "\n",
        "import logging\n",
        "\n",
        "logging.basicConfig(level=logging.DEBUG, filename='app.log', format='%(asctime)s - %(levelname)s - %(message)s')\n",
        "\n",
        "logging.info(\"This is an informational message.\")\n",
        "\n",
        "logging.error(\"This is an error message.\")\n"
      ],
      "metadata": {
        "colab": {
          "base_uri": "https://localhost:8080/"
        },
        "id": "qa9Jx73j0Rhp",
        "outputId": "146500bf-76b0-4525-8b79-2dda3868d270"
      },
      "execution_count": 18,
      "outputs": [
        {
          "output_type": "stream",
          "name": "stderr",
          "text": [
            "ERROR:root:This is an error message.\n"
          ]
        }
      ]
    },
    {
      "cell_type": "code",
      "source": [
        "#15. Write a Python program that prints the content of a file and handles the case when the file is empty\n",
        "\n",
        "try:\n",
        "    with open('file.txt', 'r') as file:\n",
        "        content = file.read()\n",
        "        if content:\n",
        "            print(content)\n",
        "        else:\n",
        "            print(\"The file is empty.\")\n",
        "except FileNotFoundError:\n",
        "    print(\"The file does not exist.\")\n"
      ],
      "metadata": {
        "colab": {
          "base_uri": "https://localhost:8080/"
        },
        "id": "0c_1Lv_c0bND",
        "outputId": "cf1c4b24-a675-4e4b-f0c9-571d5d42e66e"
      },
      "execution_count": 19,
      "outputs": [
        {
          "output_type": "stream",
          "name": "stdout",
          "text": [
            "Hello, this is a test string.This is the new data being appended.\n",
            "\n"
          ]
        }
      ]
    },
    {
      "cell_type": "code",
      "source": [
        "#16. Demonstrate how to use memory profiling to check the memory usage of a small program\n",
        "\n",
        "# To demonstrate memory profiling in Python, you can use the `memory_profiler` module. First, you need to install it via pip:\n",
        "\n",
        "# pip install memory-profiler\n",
        "\n",
        "from memory_profiler import profile\n",
        "\n",
        "@profile\n",
        "def my_function():\n",
        "    a = [1] * (10**6)  # Allocate a list with 1 million integers\n",
        "    b = [2] * (2 * 10**7)  # Allocate another list with 20 million integers\n",
        "    del b  # Delete the larger list to free memory\n",
        "    return a\n",
        "\n",
        "if __name__ == \"__main__\":\n",
        "    my_function()\n",
        "\n",
        "\n",
        "'''\n",
        "### How it works:\n",
        "1. The `@profile` decorator is used to mark the function you want to profile.\n",
        "2. When you run this script, it will display memory usage information line by line for the `my_function()`.\n",
        "\n",
        "### Running the Program:\n",
        "To run the program with memory profiling, use the following command:\n",
        "\n",
        "python -m memory_profiler your_script.py\n",
        "\n",
        "This will show the memory usage of each line of the program and give insights into how memory is being used.\n",
        "'''"
      ],
      "metadata": {
        "colab": {
          "base_uri": "https://localhost:8080/",
          "height": 70
        },
        "id": "fT8eohPk0jd2",
        "outputId": "0e47f1f0-a064-45d1-a00c-d98b7ea7826a"
      },
      "execution_count": 21,
      "outputs": [
        {
          "output_type": "execute_result",
          "data": {
            "text/plain": [
              "' \\n### How it works:\\n1. The `@profile` decorator is used to mark the function you want to profile.\\n2. When you run this script, it will display memory usage information line by line for the `my_function()`.\\n\\n### Running the Program:\\nTo run the program with memory profiling, use the following command:\\n\\npython -m memory_profiler your_script.py\\n\\nThis will show the memory usage of each line of the program and give insights into how memory is being used.\\n'"
            ],
            "application/vnd.google.colaboratory.intrinsic+json": {
              "type": "string"
            }
          },
          "metadata": {},
          "execution_count": 21
        }
      ]
    },
    {
      "cell_type": "code",
      "source": [
        "#17. Write a Python program to create and write a list of numbers to a file, one number per line\n",
        "\n",
        "numbers = [1, 2, 3, 4, 5, 6, 7, 8, 9, 10]\n",
        "\n",
        "with open('numbers.txt', 'w') as file:\n",
        "    for number in numbers:\n",
        "        file.write(f\"{number}\\n\")\n"
      ],
      "metadata": {
        "id": "IJWud0U-1JG8"
      },
      "execution_count": 22,
      "outputs": []
    },
    {
      "cell_type": "code",
      "source": [
        "#18. How would you implement a basic logging setup that logs to a file with rotation after 1MB\n",
        "\n",
        "import logging\n",
        "from logging.handlers import RotatingFileHandler\n",
        "\n",
        "handler = RotatingFileHandler('app.log', maxBytes=1e6, backupCount=3)  # 1MB and keep 3 backup files\n",
        "handler.setLevel(logging.INFO)\n",
        "\n",
        "formatter = logging.Formatter('%(asctime)s - %(levelname)s - %(message)s')\n",
        "handler.setFormatter(formatter)\n",
        "\n",
        "logger = logging.getLogger()\n",
        "logger.setLevel(logging.INFO)\n",
        "logger.addHandler(handler)\n",
        "\n",
        "logger.info(\"This is an informational message.\")\n",
        "logger.error(\"This is an error message.\")\n"
      ],
      "metadata": {
        "colab": {
          "base_uri": "https://localhost:8080/"
        },
        "id": "5Xj3MIzw1cbN",
        "outputId": "d6ce708b-7fd5-4554-aa0c-684a3b8e8626"
      },
      "execution_count": 24,
      "outputs": [
        {
          "output_type": "stream",
          "name": "stderr",
          "text": [
            "INFO:root:This is an informational message.\n",
            "ERROR:root:This is an error message.\n"
          ]
        }
      ]
    },
    {
      "cell_type": "code",
      "source": [
        "#19. Write a program that handles both IndexError and KeyError using a try-except block\n",
        "\n",
        "my_list = [1, 2, 3]\n",
        "my_dict = {'a': 10, 'b': 20}\n",
        "\n",
        "try:\n",
        "    print(my_list[5])\n",
        "except IndexError:\n",
        "    print(\"Error: List index out of range.\")\n",
        "\n",
        "try:\n",
        "    print(my_dict['c'])\n",
        "except KeyError:\n",
        "    print(\"Error: Key not found in the dictionary.\")\n"
      ],
      "metadata": {
        "colab": {
          "base_uri": "https://localhost:8080/"
        },
        "id": "6sjp42T81p2K",
        "outputId": "3305a16d-4418-4da8-e6ff-995da90646cd"
      },
      "execution_count": 25,
      "outputs": [
        {
          "output_type": "stream",
          "name": "stdout",
          "text": [
            "Error: List index out of range.\n",
            "Error: Key not found in the dictionary.\n"
          ]
        }
      ]
    },
    {
      "cell_type": "code",
      "source": [
        "#20. How would you open a file and read its contents using a context manager in Python\n",
        "\n",
        "with open('numbers.txt', 'r') as file:\n",
        "    content = file.read()\n",
        "    print(content)\n"
      ],
      "metadata": {
        "colab": {
          "base_uri": "https://localhost:8080/"
        },
        "id": "lDgN3Rze1yzU",
        "outputId": "4fef9552-bbc8-4dae-830f-9380997cea79"
      },
      "execution_count": 26,
      "outputs": [
        {
          "output_type": "stream",
          "name": "stdout",
          "text": [
            "1\n",
            "2\n",
            "3\n",
            "4\n",
            "5\n",
            "6\n",
            "7\n",
            "8\n",
            "9\n",
            "10\n",
            "\n"
          ]
        }
      ]
    },
    {
      "cell_type": "code",
      "source": [
        "#21.  Write a Python program that reads a file and prints the number of occurrences of a specific word\n",
        "\n",
        "def count_word_occurrences(file_name, word):\n",
        "    try:\n",
        "        with open(file_name, 'r') as file:\n",
        "            content = file.read()\n",
        "            word_count = content.lower().split().count(word.lower())  # Case-insensitive count\n",
        "            return word_count\n",
        "    except FileNotFoundError:\n",
        "        print(f\"The file {file_name} does not exist.\")\n",
        "        return 0\n",
        "\n",
        "file_name = 'file.txt'\n",
        "word_to_search = 'python'\n",
        "count = count_word_occurrences(file_name, word_to_search)\n",
        "print(f\"The word '{word_to_search}' appears {count} times.\")\n"
      ],
      "metadata": {
        "colab": {
          "base_uri": "https://localhost:8080/"
        },
        "id": "uAF353Zx2AQM",
        "outputId": "6aed5ed7-427e-4a86-9876-f797b47871df"
      },
      "execution_count": 27,
      "outputs": [
        {
          "output_type": "stream",
          "name": "stdout",
          "text": [
            "The word 'python' appears 0 times.\n"
          ]
        }
      ]
    },
    {
      "cell_type": "code",
      "source": [
        "#22. How can you check if a file is empty before attempting to read its contents\n",
        "\n",
        "import os\n",
        "\n",
        "file_path = 'file.txt'\n",
        "\n",
        "if os.path.getsize(file_path) > 0:\n",
        "    with open(file_path, 'r') as file:\n",
        "        content = file.read()\n",
        "        print(content)\n",
        "else:\n",
        "    print(f\"The file {file_path} is empty.\")\n"
      ],
      "metadata": {
        "colab": {
          "base_uri": "https://localhost:8080/"
        },
        "id": "RCDLKhtF2L0l",
        "outputId": "81113597-571f-4501-c967-11bdd07543d9"
      },
      "execution_count": 28,
      "outputs": [
        {
          "output_type": "stream",
          "name": "stdout",
          "text": [
            "Hello, this is a test string.This is the new data being appended.\n",
            "\n"
          ]
        }
      ]
    },
    {
      "cell_type": "code",
      "source": [
        "#23. Write a Python program that writes to a log file when an error occurs during file handling\n",
        "\n",
        "import logging\n",
        "\n",
        "logging.basicConfig(filename='error.log', level=logging.ERROR,\n",
        "                    format='%(asctime)s - %(levelname)s - %(message)s')\n",
        "\n",
        "try:\n",
        "    with open('non_existent_file.txt', 'r') as file:\n",
        "        content = file.read()\n",
        "except FileNotFoundError as e:\n",
        "    logging.error(f\"FileNotFoundError: {e}\")\n",
        "    print(\"An error occurred, check the log file for details.\")\n",
        "except Exception as e:\n",
        "    logging.error(f\"Unexpected error: {e}\")\n",
        "    print(\"An error occurred, check the log file for details.\")\n"
      ],
      "metadata": {
        "colab": {
          "base_uri": "https://localhost:8080/"
        },
        "id": "gzsuMMVu2S6y",
        "outputId": "a6d84340-76d0-4cd4-a8cf-0eb7d12e4823"
      },
      "execution_count": 29,
      "outputs": [
        {
          "output_type": "stream",
          "name": "stderr",
          "text": [
            "ERROR:root:FileNotFoundError: [Errno 2] No such file or directory: 'non_existent_file.txt'\n"
          ]
        },
        {
          "output_type": "stream",
          "name": "stdout",
          "text": [
            "An error occurred, check the log file for details.\n"
          ]
        }
      ]
    }
  ]
}