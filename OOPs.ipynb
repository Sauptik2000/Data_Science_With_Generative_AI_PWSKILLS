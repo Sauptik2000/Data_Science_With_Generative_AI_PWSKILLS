{
  "nbformat": 4,
  "nbformat_minor": 0,
  "metadata": {
    "colab": {
      "provenance": []
    },
    "kernelspec": {
      "name": "python3",
      "display_name": "Python 3"
    },
    "language_info": {
      "name": "python"
    }
  },
  "cells": [
    {
      "cell_type": "markdown",
      "source": [
        "# Python OOPs"
      ],
      "metadata": {
        "id": "BUxl280a0iUr"
      }
    },
    {
      "cell_type": "markdown",
      "source": [
        "**1. What is Object-Oriented Programming (OOP)?**\n",
        "- Object-Oriented Programming (OOP) in Python is a way to organize code using **classes** (blueprints) and **objects** (instances). It focuses on four main principles:\n",
        "\n",
        "  - **Encapsulation**: Bundling data and methods in one unit (class).\n",
        "  - **Inheritance**: Allowing classes to inherit functionality from other classes.\n",
        "  -  **Polymorphism**: Using the same method name for different behaviors.\n",
        "  - **Abstraction**: Hiding complexity and showing only necessary parts.\n",
        "\n",
        "- Example:\n",
        "```python\n",
        "class Dog:\n",
        "    def __init__(self, name):\n",
        "        self.name = name\n",
        "    def speak(self):\n",
        "        return \"Woof!\"\n",
        "    dog = Dog(\"Rex\")\n",
        "    print(dog.speak())  # Output: Woof!\n",
        "```\n",
        "It helps in creating modular, reusable, and maintainable code."
      ],
      "metadata": {
        "id": "wZjvGcVL0qh7"
      }
    },
    {
      "cell_type": "markdown",
      "source": [
        "**2. What is a class in OOP?**\n",
        " - A **class** in Object-Oriented Programming (OOP) is a blueprint for creating objects. It defines the **attributes** (data) and **methods** (functions) that the objects created from the class will have. A class doesn't store data itself; instead, it provides a structure that defines how objects are created and how they behave.\n",
        "\n",
        " - Example:\n",
        "```python\n",
        "class Dog:\n",
        "    def __init__(self, name, breed):\n",
        "        self.name = name  # Attribute\n",
        "        self.breed = breed  # Attribute\n",
        "\n",
        "    def speak(self):  # Method\n",
        "        return \"Woof!\"\n",
        "```\n",
        "\n",
        "  In this example, `Dog` is a class, and it can create objects (instances) like `dog1 = Dog(\"Rex\", \"German Shepherd\")`. Each object will have its own `name` and `breed`, and can use the `speak()` method."
      ],
      "metadata": {
        "id": "HVqv-ggD13tF"
      }
    },
    {
      "cell_type": "markdown",
      "source": [
        "**3. What is an object in OOP?**\n",
        "- An **object** in Object-Oriented Programming (OOP) is an instance of a class. It is a specific entity created based on the blueprint (class) that holds its own data (attributes) and can perform actions (methods) defined by that class.\n",
        "\n",
        "  In simple terms, an object is a real-world entity that is modeled in code using a class.\n",
        "\n",
        "- Example:\n",
        "```python\n",
        "class Dog:\n",
        "    def __init__(self, name, breed):\n",
        "        self.name = name  \n",
        "        self.breed = breed  \n",
        "        \n",
        "    def speak(self):  \n",
        "        return \"Woof!\"\n",
        "    \n",
        "    # Creating an object (instance) of the Dog class\n",
        "    dog1 = Dog(\"Rex\", \"German Shepherd\")\n",
        "    print(dog1.name)  # Output: Rex\n",
        "    print(dog1.speak())  # Output: Woof!\n",
        "```\n",
        "  Here, `dog1` is an **object** (instance) of the `Dog` class, and it has its own `name` and `breed` attributes, and can call the `speak()` method."
      ],
      "metadata": {
        "id": "MIQV2BJG2oqI"
      }
    },
    {
      "cell_type": "markdown",
      "source": [
        "**4. What is the difference between abstraction and encapsulation**\n",
        "- **Abstraction** and **Encapsulation** are both key concepts in Object-Oriented Programming (OOP), but they serve different purposes:\n",
        "\n",
        "1. **Abstraction**:\n",
        "   - *Purpose:* Hides the complexity and shows only the essential features of an object.\n",
        "   - *How:* Focuses on what an object does, not how it does it.\n",
        "   - *Example:* In a car, you only interact with the steering wheel to drive, not the internal engine mechanics.\n",
        "   - *Implementation:* Achieved through abstract classes and methods (e.g., Python's `abc` module).\n",
        "\n",
        "2. **Encapsulation**:\n",
        "   - *Purpose:* Protects an object's internal state by restricting access to its data.\n",
        "   - *How:* Data and methods are bundled together, and access to data is controlled through methods (getters/setters).\n",
        "   - *Example:* A bank account object might hide its balance and only allow access via deposit or withdrawal methods.\n",
        "   - *Implementation:* Achieved by using access modifiers (public, private) to restrict direct access to attributes.\n",
        "\n",
        "- **Key Difference**: **Abstraction** is about **hiding complexity** (what an object does), while **Encapsulation** is about **hiding implementation details** (how data is stored or accessed)."
      ],
      "metadata": {
        "id": "s80Zt2Y03G7O"
      }
    },
    {
      "cell_type": "markdown",
      "source": [
        "**5. What are dunder methods in Python**\n",
        " - **Dunder methods** (short for \"double underscore\" methods) in Python are special methods that start and end with double underscores (`__`). These methods allow you to define how objects of a class behave in certain operations, such as arithmetic operations, string representation, and object comparisons.\n",
        "\n",
        "  Some common dunder methods include:\n",
        "\n",
        "1. `__init__(self)`: The constructor method, called when an object is created.\n",
        "2. `__str__(self)`: Defines the string representation of an object (used by `print()`).\n",
        "3. `__repr__(self)`: Returns a detailed string representation of the object (used in debugging).\n",
        "4. `__add__(self, other)`: Defines behavior for the `+` operator.\n",
        "5. `__eq__(self, other)`: Defines behavior for the `==` operator.\n",
        "6. `__len__(self)`: Defines behavior for the `len()` function.\n",
        "\n",
        "- Example:\n",
        "```python\n",
        "class Point:\n",
        "    def __init__(self, x, y):\n",
        "        self.x = x\n",
        "        self.y = y\n",
        "\n",
        "    def __str__(self):\n",
        "        return f\"Point({self.x}, {self.y})\"\n",
        "    \n",
        "    # Create an object\n",
        "    p = Point(2, 3)\n",
        "    print(p)  # Output: Point(2, 3)\n",
        "```\n"
      ],
      "metadata": {
        "id": "G2ZtdKKw3qeE"
      }
    },
    {
      "cell_type": "markdown",
      "source": [
        "**6. Explain the concept of inheritance in OOP**\n",
        " - **Inheritance** in Object-Oriented Programming (OOP) is a mechanism that allows one class (child class) to inherit attributes and methods from another class (parent class). This helps in reusing code and establishing a hierarchical relationship between classes.\n",
        "\n",
        " ### Key points:\n",
        "1. *Parent (Base) Class:* The class whose properties and methods are inherited.\n",
        "2. *Child (Derived) Class:* The class that inherits the properties and methods of the parent class and can also add its own unique properties or methods.\n",
        "3. *Code Reusability:* Inheritance allows the child class to reuse code from the parent class, reducing redundancy.\n",
        "\n",
        "  ### Example:\n",
        "```python\n",
        "  class Animal:  # Parent class\n",
        "    def speak(self):\n",
        "        return \"Animal sound\"\n",
        "\n",
        "  class Dog(Animal):  # Child class inherits from Animal\n",
        "    def speak(self):\n",
        "        return \"Woof!\"\n",
        "\n",
        "  # Create an object of Dog class\n",
        "  dog = Dog()\n",
        "  print(dog.speak())  # Output: Woof! (Overridden method)\n",
        "```\n",
        "\n",
        " In this example:\n",
        "- `Dog` inherits from `Animal`, so it can access the `speak` method.\n",
        "- The `Dog` class can also override the `speak` method to provide its own behavior.\n",
        "\n",
        " Inheritance helps in building more specialized classes based on general ones while keeping the code organized and reusable."
      ],
      "metadata": {
        "id": "xVJv_-Eq5E28"
      }
    },
    {
      "cell_type": "markdown",
      "source": [
        "**7. What is polymorphism in OOP**\n",
        "- **Polymorphism** in Object-Oriented Programming (OOP) refers to the ability of different classes to provide a **shared interface** for their objects, while allowing each class to implement its own version of a method. It allows objects of different types to be treated as objects of a common superclass, especially when they have methods with the same name but different behaviors.\n",
        "\n",
        "- Key points:\n",
        "  1. **Method Overriding**: In a subclass, you can define a method with the same name as in the parent class, but with a different implementation.\n",
        "  2. **Method Overloading** (in some languages, not natively in Python): The same method name can be used with different argument signatures.\n",
        "\n",
        "-  Example:\n",
        "```python\n",
        "  class Animal:\n",
        "    def speak(self):\n",
        "        return \"Animal sound\"\n",
        "\n",
        "  class Dog(Animal):\n",
        "    def speak(self):\n",
        "        return \"Woof!\"\n",
        "\n",
        "  class Cat(Animal):\n",
        "    def speak(self):\n",
        "        return \"Meow!\"\n",
        "\n",
        "  # Polymorphism: Same method name, different behavior\n",
        "  def animal_sound(animal):\n",
        "    print(animal.speak())\n",
        "\n",
        "  # Create objects\n",
        "  dog = Dog()\n",
        "  cat = Cat()\n",
        "\n",
        "  animal_sound(dog)  # Output: Woof!\n",
        "  animal_sound(cat)  # Output: Meow!\n",
        "```\n",
        "\n",
        "  In this example:\n",
        "- The `speak` method is overridden in both `Dog` and `Cat` classes, allowing them to exhibit different behaviors.\n",
        "- Polymorphism allows the `animal_sound` function to work with any subclass of `Animal`, while producing the appropriate output depending on the object type.\n",
        "\n",
        "  Polymorphism enhances flexibility and helps in writing cleaner and more maintainable code."
      ],
      "metadata": {
        "id": "DD2IVKw35-LA"
      }
    },
    {
      "cell_type": "markdown",
      "source": [
        "**8. How is encapsulation achieved in Python**\n",
        " - **Encapsulation** in Python is achieved by bundling the data (attributes) and methods (functions) that operate on the data into a single unit (class). It also involves controlling access to the internal state of an object by using **access modifiers** like **public**, **protected**, and **private**.\n",
        "\n",
        " - Key points:\n",
        "  1. **Public attributes**: These are accessible from outside the class. By default, all attributes are public in Python.\n",
        "  2. **Private attributes**: These are intended to be accessed only within the class. You can make an attribute private by prefixing its name with two underscores (`__`).\n",
        "  3. **Protected attributes**: These are intended for internal use within the class or its subclasses, and are indicated with a single underscore (`_`).\n",
        "\n",
        "- Example of Encapsulation:\n",
        "```python\n",
        "  class Person:\n",
        "    def __init__(self, name, age):\n",
        "        self.name = name        # Public attribute\n",
        "        self.__age = age        # Private attribute\n",
        "\n",
        "    # Public method to access private data\n",
        "    def get_age(self):\n",
        "        return self.__age\n",
        "\n",
        "    # Public method to modify private data\n",
        "    def set_age(self, age):\n",
        "        if age > 0:\n",
        "            self.__age = age\n",
        "\n",
        "  # Create an object of Person\n",
        "  person = Person(\"Alice\", 30)\n",
        "\n",
        "  # Accessing public attribute\n",
        "  print(person.name)  # Output: Alice\n",
        "\n",
        "  # Accessing private attribute directly will raise an error\n",
        "  # print(person.__age)  # AttributeError\n",
        "\n",
        "  # Using methods to access or modify private attribute\n",
        "  print(person.get_age())  # Output: 30\n",
        "  person.set_age(35)\n",
        "  print(person.get_age())  # Output: 35\n",
        "```\n",
        "\n",
        "  In this example:\n",
        "- The `__age` attribute is private, and can only be accessed or modified through the `get_age` and `set_age` methods, providing controlled access to the internal data.\n",
        "- This helps protect the object's internal state and ensures it is used correctly.\n",
        "\n",
        "  Encapsulation helps in hiding the complexity and protects data from unauthorized or incorrect access."
      ],
      "metadata": {
        "id": "fFnD_PWm6XQ-"
      }
    },
    {
      "cell_type": "markdown",
      "source": [
        "**9. What is a constructor in Python**\n",
        " - A **constructor** in Python is a special method `__init__()` used to initialize a newly created object. It is called automatically when an object is instantiated from a class and allows you to set initial values for the object's attributes.\n",
        "\n",
        "- Example:\n",
        "```python\n",
        "  class Dog:\n",
        "    def __init__(self, name, breed):\n",
        "        self.name = name\n",
        "        self.breed = breed\n",
        "\n",
        "  # Create an object\n",
        "  dog = Dog(\"Rex\", \"German Shepherd\")\n",
        "  print(dog.name)  # Output: Rex\n",
        "```\n",
        " Here, `__init__()` is the constructor that initializes `name` and `breed` when a `Dog` object is created."
      ],
      "metadata": {
        "id": "-3fMPBfq7SbB"
      }
    },
    {
      "cell_type": "markdown",
      "source": [
        "**10. What are class and static methods in Python**\n",
        " - **Class Method**: Defined with `@classmethod`, takes `cls` as the first argument (refers to the class). It can access and modify class-level attributes.\n",
        "\n",
        "  Example:\n",
        "  ```python\n",
        "  class MyClass:\n",
        "      @classmethod\n",
        "      def greet(cls):\n",
        "          print(\"Hello from class!\")\n",
        "\n",
        "  MyClass.greet()\n",
        "  ```\n",
        "\n",
        "- **Static Method**: Defined with `@staticmethod`, doesn't take `self` or `cls`. It doesn't access class or instance attributes.\n",
        "\n",
        "  Example:\n",
        "  ```python\n",
        "  class MyClass:\n",
        "      @staticmethod\n",
        "      def greet(name):\n",
        "          print(f\"Hello, {name}!\")\n",
        "\n",
        "  MyClass.greet(\"Alice\")\n",
        "  ```"
      ],
      "metadata": {
        "id": "Xny6SwQC7kiP"
      }
    },
    {
      "cell_type": "markdown",
      "source": [
        "**11. What is method overloading in Python**\n",
        " - **Method overloading** in Python is not natively supported. However, we can mimic it using **default arguments** or **variable-length arguments** (`*args`).\n",
        "\n",
        "- Example:\n",
        "```python\n",
        "  class Calculator:\n",
        "    def add(self, *args):  # Variable-length arguments\n",
        "        return sum(args)\n",
        "\n",
        "  calc = Calculator()\n",
        "  print(calc.add(1, 2))  # Output: 3\n",
        "  print(calc.add(1, 2, 3, 4))  # Output: 10\n",
        "```\n",
        "  Here, the `add` method handles different numbers of arguments."
      ],
      "metadata": {
        "id": "bd8fzs4h-VqT"
      }
    },
    {
      "cell_type": "markdown",
      "source": [
        "**12. What is method overriding in OOP**\n",
        "- **Method overriding** in OOP occurs when a subclass provides a specific implementation of a method that is already defined in its parent class. The subclass method **overrides** the parent class method, allowing it to have a different behavior while maintaining the same method name.\n",
        "\n",
        "- Example:\n",
        "```python\n",
        "  class Animal:\n",
        "    def speak(self):\n",
        "        return \"Animal sound\"\n",
        "\n",
        "  class Dog(Animal):\n",
        "    def speak(self):  # Overriding the parent method\n",
        "        return \"Woof!\"\n",
        "\n",
        "  # Create objects\n",
        "  animal = Animal()\n",
        "  dog = Dog()\n",
        "\n",
        "  print(animal.speak())  # Output: Animal sound\n",
        "  print(dog.speak())  # Output: Woof!\n",
        "```\n",
        "\n",
        "  Here, the `Dog` class overrides the `speak` method from the `Animal` class, providing its own version of the method."
      ],
      "metadata": {
        "id": "322zaSrB_TC9"
      }
    },
    {
      "cell_type": "markdown",
      "source": [
        "**13. What is a property decorator in Python**\n",
        "- The **`@property` decorator** in Python is used to define a method as a **property**, allowing you to access it like an attribute without explicitly calling it as a method. It is commonly used to control access to an attribute, with getter, setter, and deleter functionality.\n",
        "\n",
        "- Key points:\n",
        "  - **Getter**: Defines a method to get the value of an attribute.\n",
        "  - **Setter**: Defines a method to set the value of an attribute.\n",
        "  - **Deleter**: Defines a method to delete an attribute.\n",
        "\n",
        "- Example:\n",
        "```python\n",
        "  class Circle:\n",
        "    def __init__(self, radius):\n",
        "        self._radius = radius\n",
        "\n",
        "    @property\n",
        "    def radius(self):  # Getter\n",
        "        return self._radius\n",
        "\n",
        "    @radius.setter\n",
        "    def radius(self, value):  # Setter\n",
        "        if value >= 0:\n",
        "            self._radius = value\n",
        "        else:\n",
        "            raise ValueError(\"Radius must be positive\")\n",
        "\n",
        "  circle = Circle(5)\n",
        "  print(circle.radius)  # Accessing the property (getter)\n",
        "  circle.radius = 10  # Setting the property (setter)\n",
        "  print(circle.radius)  # Accessing the property again (getter)\n",
        "```\n",
        "  In this example, `radius` is a property, so we can access it like an attribute but still control its behavior using the getter and setter."
      ],
      "metadata": {
        "id": "u2QIpPIS_lVN"
      }
    },
    {
      "cell_type": "markdown",
      "source": [
        "**14. Why is polymorphism important in OOP**\n",
        " - Polymorphism is important in OOP because it allows for flexibility and code reuse. It enables objects of different classes to be treated as objects of a common superclass, while each object can have its own implementation of shared methods. This helps in writing more generalized and extensible code.\n",
        " - Key Benefits:\n",
        "   - Code simplicity: You can use the same method name for different objects.\n",
        "   - Extensibility: New classes can be added without changing existing code.\n",
        "   - Maintainability: Reduces code duplication and makes it easier to manage."
      ],
      "metadata": {
        "id": "fDsFy_TtACVC"
      }
    },
    {
      "cell_type": "markdown",
      "source": [
        "**15. What is an abstract class in Python**\n",
        "- An **abstract class** in Python is a class that cannot be instantiated directly. It is designed to be subclassed, and it can contain **abstract methods** that must be implemented by any subclass. Abstract classes are used to define a common interface for other classes.\n",
        "\n",
        "  We create an abstract class by inheriting from the `ABC` (Abstract Base Class) module and using the `@abstractmethod` decorator to define abstract methods.\n",
        "\n",
        "-  Key Points:\n",
        "  - An abstract class cannot be instantiated directly.\n",
        "  - It can contain both **abstract methods** (methods without implementation) and regular methods.\n",
        "  - Subclasses must implement all abstract methods to be instantiated.\n",
        "\n",
        "- Example:\n",
        "```python\n",
        "  from abc import ABC, abstractmethod\n",
        "\n",
        "  class Animal(ABC):\n",
        "    @abstractmethod\n",
        "    def speak(self):\n",
        "        pass\n",
        "\n",
        "  class Dog(Animal):\n",
        "    def speak(self):\n",
        "        return \"Woof!\"\n",
        "\n",
        "  # animal = Animal()  # This will raise an error\n",
        "  dog = Dog()\n",
        "  print(dog.speak())  # Output: Woof!\n",
        "```\n",
        "\n",
        "  In this example, `Animal` is an abstract class, and `Dog` is a concrete subclass that implements the `speak` method."
      ],
      "metadata": {
        "id": "BM61Lo84Afz5"
      }
    },
    {
      "cell_type": "markdown",
      "source": [
        "**16. What are the advantages of OOP**\n",
        " - The advantages of **Object-Oriented Programming (OOP)** are:\n",
        "    1. **Modularity**: Code is organized into classes and objects, making it easier to manage and maintain.\n",
        "    2. **Reusability**: Classes and methods can be reused across different programs or projects, reducing redundancy.\n",
        "    3. **Scalability**: OOP makes it easier to extend and modify code as requirements change.\n",
        "    4. **Maintainability**: Code is easier to debug, test, and update due to the separation of concerns.\n",
        "    5. **Encapsulation**: Data and methods are bundled together, protecting internal state and providing controlled access.\n",
        "    6. **Abstraction**: Hides complexity, exposing only necessary details to the user.\n",
        "\n",
        "  These benefits make OOP ideal for building large, complex, and maintainable software systems."
      ],
      "metadata": {
        "id": "47bGM0zXCysV"
      }
    },
    {
      "cell_type": "markdown",
      "source": [
        "**17. What is the difference between a class variable and an instance variable**\n",
        " - **Class Variable** vs **Instance Variable** in Python:\n",
        "\n",
        "1. **Class Variable**:\n",
        "   - Defined within a class, but outside of any methods.\n",
        "   - Shared by all instances of the class.\n",
        "   - Changes to a class variable affect all instances.\n",
        "\n",
        "   Example:\n",
        "   ```python\n",
        "   class Dog:\n",
        "       species = \"Canine\"  # Class variable\n",
        "   ```\n",
        "\n",
        "2. **Instance Variable**:\n",
        "   - Defined within a method (usually `__init__()`).\n",
        "   - Unique to each instance of the class.\n",
        "   - Each object has its own copy of the instance variable.\n",
        "\n",
        "   Example:\n",
        "   ```python\n",
        "   class Dog:\n",
        "       def __init__(self, name):\n",
        "           self.name = name  # Instance variable\n",
        "   ```\n",
        "\n",
        "   Key Difference:\n",
        "- **Class variables** are shared across all instances, while **instance variables** are specific to each instance."
      ],
      "metadata": {
        "id": "CeN3dShsEWUc"
      }
    },
    {
      "cell_type": "markdown",
      "source": [
        "**18. What is multiple inheritance in Python**\n",
        " - **Multiple inheritance** in Python allows a class to inherit from more than one parent class.\n",
        "\n",
        "- Example:\n",
        "```python\n",
        "  class A:\n",
        "    def method_a(self):\n",
        "        return \"A\"\n",
        "\n",
        "  class B:\n",
        "    def method_b(self):\n",
        "        return \"B\"\n",
        "\n",
        "  class C(A, B):  # Inherits from both A and B\n",
        "    pass\n",
        "\n",
        "  obj = C()\n",
        "  print(obj.method_a())  # Output: A\n",
        "  print(obj.method_b())  # Output: B\n",
        "```\n",
        "\n",
        "  Here, class `C` inherits from both `A` and `B`."
      ],
      "metadata": {
        "id": "dptFJOoKElVr"
      }
    },
    {
      "cell_type": "markdown",
      "source": [
        "**19. Explain the purpose of ‘’__str__’ and ‘__repr__’ ‘ methods in Python**\n",
        "- The `__str__` and `__repr__` methods in Python are both used to define how an object should be represented as a string, but they serve different purposes:\n",
        "\n",
        "1. **`__str__`**:\n",
        "   - Purpose: Used for **user-friendly** string representation of an object, typically for display or printing.\n",
        "   - Example: Called by the `print()` function.\n",
        "\n",
        "   Example:\n",
        "   ```python\n",
        "   class Dog:\n",
        "       def __init__(self, name):\n",
        "           self.name = name\n",
        "\n",
        "       def __str__(self):\n",
        "           return f\"Dog: {self.name}\"\n",
        "\n",
        "   dog = Dog(\"Rex\")\n",
        "   print(dog)  # Output: Dog: Rex\n",
        "   ```\n",
        "\n",
        "2. **`__repr__`**:\n",
        "   - Purpose: Used for **developer-friendly** string representation, aimed at unambiguous and complete representation (for debugging).\n",
        "   - Example: Called by `repr()` or in the interpreter.\n",
        "\n",
        "   Example:\n",
        "   ```python\n",
        "   class Dog:\n",
        "       def __init__(self, name):\n",
        "           self.name = name\n",
        "\n",
        "       def __repr__(self):\n",
        "           return f\"Dog('{self.name}')\"\n",
        "\n",
        "   dog = Dog(\"Rex\")\n",
        "   print(repr(dog))  # Output: Dog('Rex')\n",
        "   ```\n",
        "\n",
        " Key Difference:\n",
        "- **`__str__`** is for a readable format, while **`__repr__`** is for a precise and unambiguous format, often useful for debugging."
      ],
      "metadata": {
        "id": "yZAI7QFFE2Ap"
      }
    },
    {
      "cell_type": "markdown",
      "source": [
        "**20. What is the significance of the ‘super()’ function in Python**\n",
        "- The **`super()`** function in Python is used to call methods from a parent (or superclass) within a subclass. It allows you to access and invoke the parent class's methods, enabling you to **extend or modify** their behavior in the subclass.\n",
        "\n",
        "- Significance:\n",
        "  - It allows you to **call the parent class's methods** without directly referencing the parent class by name.\n",
        "  - It helps in **method overriding** and ensures that the parent class's method is still invoked when overridden in the subclass.\n",
        "  - It's particularly useful in **multiple inheritance** to avoid issues with method resolution order (MRO).\n",
        "\n",
        "- Example:\n",
        "```python\n",
        "  class Animal:\n",
        "    def speak(self):\n",
        "        return \"Animal sound\"\n",
        "\n",
        "  class Dog(Animal):\n",
        "    def speak(self):\n",
        "        return super().speak() + \" and Woof!\"\n",
        "\n",
        "  dog = Dog()\n",
        "  print(dog.speak())  # Output: Animal sound and Woof!\n",
        "```\n",
        " In this example, `super()` calls the `speak` method from the `Animal` class inside the `Dog` class, extending its behavior."
      ],
      "metadata": {
        "id": "QaUmpVCeFH2g"
      }
    },
    {
      "cell_type": "markdown",
      "source": [
        "**21. What is the significance of the __del__ method in Python**\n",
        " - The `__del__` method in Python is a **destructor** method. It is automatically called when an object is about to be destroyed or deleted, typically when there are no more references to the object. The purpose of `__del__` is to clean up resources (e.g., closing files, releasing network connections) before the object is removed from memory.\n",
        "\n",
        "- Significance:\n",
        "  - It is used to **perform cleanup actions** like closing files or releasing external resources.\n",
        "  - The `__del__` method is called when the object is garbage collected, but its exact timing is not guaranteed.\n",
        "\n",
        "- Example:\n",
        "```python\n",
        "  class MyClass:\n",
        "    def __init__(self):\n",
        "        print(\"Object created\")\n",
        "\n",
        "    def __del__(self):\n",
        "        print(\"Object is being destroyed\")\n",
        "\n",
        "  obj = MyClass()\n",
        "  del obj  # Output: Object is being destroyed\n",
        "```\n",
        "\n",
        "  In this example, `__del__` is called when `obj` is deleted, allowing cleanup actions to be performed before the object is destroyed."
      ],
      "metadata": {
        "id": "mI__dn44FYUm"
      }
    },
    {
      "cell_type": "markdown",
      "source": [
        "**22. What is the difference between @staticmethod and @classmethod in Python**\n",
        "- **`@staticmethod`**:\n",
        "  - Does not take `self` or `cls`.\n",
        "  - Cannot access or modify instance or class variables.\n",
        "  - Works like a regular function inside the class.\n",
        "\n",
        "- **`@classmethod`**:\n",
        "  - Takes `cls` (class reference) as the first argument.\n",
        "  - Can access and modify class-level variables.\n",
        "\n",
        "- Example:\n",
        "```python\n",
        "  class MyClass:\n",
        "    @staticmethod\n",
        "    def static_method():\n",
        "        return \"Static\"\n",
        "\n",
        "    @classmethod\n",
        "    def class_method(cls):\n",
        "        return f\"Class: {cls}\"\n",
        "\n",
        "  print(MyClass.static_method())  # Static\n",
        "  print(MyClass.class_method())   # Class: <class '__main__.MyClass'>\n",
        "```"
      ],
      "metadata": {
        "id": "Dx5FEXo8FlZM"
      }
    },
    {
      "cell_type": "markdown",
      "source": [
        "**23. How does polymorphism work in Python with inheritance**\n",
        " - **Polymorphism** in Python with inheritance allows subclasses to provide their own implementation of methods defined in a parent class. This enables different classes to be treated as instances of the parent class, while each class can have its own version of the method.\n",
        "\n",
        "- How it works:\n",
        "  1. A method in the parent class is overridden in the child class.\n",
        "  2. When a method is called on an object, Python calls the method of the subclass if it has been overridden, otherwise, it calls the method from the parent class.\n",
        "   \n",
        "  This allows you to write more general code that works with different classes in a uniform way.\n",
        "\n",
        "- Example:\n",
        "```python\n",
        "  class Animal:\n",
        "    def speak(self):\n",
        "        return \"Animal sound\"\n",
        "\n",
        "  class Dog(Animal):\n",
        "    def speak(self):\n",
        "        return \"Woof!\"\n",
        "\n",
        "  class Cat(Animal):\n",
        "    def speak(self):\n",
        "        return \"Meow!\"\n",
        "\n",
        "  # Polymorphism: Different behaviors based on object type\n",
        "  def animal_sound(animal):\n",
        "    print(animal.speak())\n",
        "\n",
        "  dog = Dog()\n",
        "  cat = Cat()\n",
        "\n",
        "  animal_sound(dog)  # Output: Woof!\n",
        "  animal_sound(cat)  # Output: Meow!\n",
        "```\n",
        "\n",
        "  Here, the same `animal_sound()` function works with both `Dog` and `Cat` objects, each producing a different output, demonstrating polymorphism."
      ],
      "metadata": {
        "id": "tjTUkwxAF5ti"
      }
    },
    {
      "cell_type": "markdown",
      "source": [
        "**24. What is method chaining in Python OOP**\n",
        " - **Method chaining** in Python is a technique where multiple methods are called on the same object in a single line. This is possible because each method returns the object itself (usually `self`), allowing you to chain successive method calls.\n",
        "\n",
        "- How it works:\n",
        "  - Each method in the chain returns `self`, enabling the next method to be called on the same object.\n",
        "\n",
        "- Example:\n",
        "```python\n",
        "  class Calculator:\n",
        "    def __init__(self, value=0):\n",
        "        self.value = value\n",
        "\n",
        "    def add(self, x):\n",
        "        self.value += x\n",
        "        return self\n",
        "\n",
        "    def subtract(self, x):\n",
        "        self.value -= x\n",
        "        return self\n",
        "\n",
        "    def multiply(self, x):\n",
        "        self.value *= x\n",
        "        return self\n",
        "\n",
        "    def get_result(self):\n",
        "        return self.value\n",
        "\n",
        "  # Method chaining example\n",
        "  calc = Calculator()\n",
        "  result = calc.add(5).subtract(2).multiply(3).get_result()\n",
        "  print(result)  # Output: 9\n",
        "```\n",
        "\n",
        "  In this example, `add()`, `subtract()`, and `multiply()` methods return `self`, allowing them to be chained together."
      ],
      "metadata": {
        "id": "97mlZiOoGLXN"
      }
    },
    {
      "cell_type": "markdown",
      "source": [
        "**25. What is the purpose of the __call__ method in Python**\n",
        " - The **`__call__`** method in Python allows an instance of a class to be called like a function. When an object with a `__call__` method is followed by parentheses (e.g., `obj()`), the `__call__` method is executed. This enables objects to behave like functions.\n",
        "\n",
        "- Purpose:\n",
        "  - To make objects callable.\n",
        "  - Useful for cases where you want an object to perform a specific action when \"called,\" instead of just accessing methods or attributes.\n",
        "\n",
        "- Example:\n",
        "```python\n",
        "  class Adder:\n",
        "    def __init__(self, start):\n",
        "        self.start = start\n",
        "\n",
        "    def __call__(self, value):\n",
        "        return self.start + value\n",
        "\n",
        "  add_five = Adder(5)\n",
        "  print(add_five(10))  # Output: 15\n",
        "```\n",
        "\n",
        "  Here, `add_five` is an object of the `Adder` class, and calling `add_five(10)` triggers the `__call__` method, returning `15`."
      ],
      "metadata": {
        "id": "zPQfog_MGldx"
      }
    },
    {
      "cell_type": "code",
      "source": [
        "'''1. Create a parent class Animal with a method speak() that prints a generic message.\n",
        "Create a child class Dog that overrides the speak() method to print \"Bark!\".'''\n",
        "\n",
        "class Animal:\n",
        "    def speak(self):\n",
        "        print(\"Generic animal sound\")\n",
        "\n",
        "class Dog(Animal):\n",
        "    def speak(self):\n",
        "        print(\"Bark!\")\n",
        "\n",
        "dog = Dog()\n",
        "dog.speak()\n"
      ],
      "metadata": {
        "colab": {
          "base_uri": "https://localhost:8080/"
        },
        "id": "SvRTbE86HC1u",
        "outputId": "75b4e591-03f2-484f-a82b-83b5bf44203b"
      },
      "execution_count": 26,
      "outputs": [
        {
          "output_type": "stream",
          "name": "stdout",
          "text": [
            "Bark!\n"
          ]
        }
      ]
    },
    {
      "cell_type": "code",
      "source": [
        "'''Write a program to create an abstract class Shape with a method area(). Derive classes Circle and Rectangle\n",
        "from it and implement the area() method in both.'''\n",
        "\n",
        "from abc import ABC, abstractmethod\n",
        "import math\n",
        "\n",
        "class Shape(ABC):\n",
        "    @abstractmethod\n",
        "    def area(self):\n",
        "        pass\n",
        "\n",
        "class Circle(Shape):\n",
        "    def __init__(self, radius):\n",
        "        self.radius = radius\n",
        "\n",
        "    def area(self):\n",
        "        return math.pi * self.radius ** 2\n",
        "\n",
        "class Rectangle(Shape):\n",
        "    def __init__(self, length, width):\n",
        "        self.length = length\n",
        "        self.width = width\n",
        "\n",
        "    def area(self):\n",
        "        return self.length * self.width\n",
        "\n",
        "circle = Circle(5)\n",
        "rectangle = Rectangle(4, 6)\n",
        "\n",
        "print(f\"Area of Circle: {circle.area()}\")\n",
        "print(f\"Area of Rectangle: {rectangle.area()}\")"
      ],
      "metadata": {
        "colab": {
          "base_uri": "https://localhost:8080/"
        },
        "id": "NsN97RCIHhrM",
        "outputId": "76f29338-3bc5-4db0-cf85-79334f4a63c0"
      },
      "execution_count": 27,
      "outputs": [
        {
          "output_type": "stream",
          "name": "stdout",
          "text": [
            "Area of Circle: 78.53981633974483\n",
            "Area of Rectangle: 24\n"
          ]
        }
      ]
    },
    {
      "cell_type": "code",
      "source": [
        "'''Implement a multi-level inheritance scenario where a class Vehicle has an attribute type. Derive a class Car\n",
        "and further derive a class ElectricCar that adds a battery attribute'''\n",
        "\n",
        "class Vehicle:\n",
        "    def __init__(self, type):\n",
        "        self.type = type\n",
        "\n",
        "    def display_type(self):\n",
        "        print(f\"Vehicle Type: {self.type}\")\n",
        "\n",
        "class Car(Vehicle):\n",
        "    def __init__(self, type, model):\n",
        "        super().__init__(type)\n",
        "        self.model = model\n",
        "\n",
        "    def display_model(self):\n",
        "        print(f\"Car Model: {self.model}\")\n",
        "\n",
        "class ElectricCar(Car):\n",
        "    def __init__(self, type, model, battery):\n",
        "        super().__init__(type, model)\n",
        "        self.battery = battery\n",
        "\n",
        "    def display_battery(self):\n",
        "        print(f\"Electric Car Battery: {self.battery} kWh\")\n",
        "\n",
        "electric_car = ElectricCar(\"Electric\", \"Tesla Model S\", 100)\n",
        "\n",
        "electric_car.display_type()\n",
        "electric_car.display_model()\n",
        "electric_car.display_battery()\n"
      ],
      "metadata": {
        "colab": {
          "base_uri": "https://localhost:8080/"
        },
        "id": "k9Umexq7evi_",
        "outputId": "2bab03f6-5d2d-4ae1-92e1-3d5099aa7f04"
      },
      "execution_count": 28,
      "outputs": [
        {
          "output_type": "stream",
          "name": "stdout",
          "text": [
            "Vehicle Type: Electric\n",
            "Car Model: Tesla Model S\n",
            "Electric Car Battery: 100 kWh\n"
          ]
        }
      ]
    },
    {
      "cell_type": "code",
      "source": [
        "'''Demonstrate polymorphism by creating a base class Bird with a method fly(). Create two derived classes\n",
        "Sparrow and Penguin that override the fly() method'''\n",
        "\n",
        "class Bird:\n",
        "    def fly(self):\n",
        "        print(\"This bird can fly.\")\n",
        "\n",
        "class Sparrow(Bird):\n",
        "    def fly(self):\n",
        "        print(\"Sparrow can fly high in the sky.\")\n",
        "\n",
        "class Penguin(Bird):\n",
        "    def fly(self):\n",
        "        print(\"Penguin cannot fly, but it swims.\")\n",
        "\n",
        "sparrow = Sparrow()\n",
        "penguin = Penguin()\n",
        "\n",
        "def bird_fly(bird):\n",
        "    bird.fly()\n",
        "\n",
        "bird_fly(sparrow)\n",
        "bird_fly(penguin)\n"
      ],
      "metadata": {
        "colab": {
          "base_uri": "https://localhost:8080/"
        },
        "id": "DJXPXPrIfRQC",
        "outputId": "66908163-6f6e-4b61-84c0-ed1f72e1a176"
      },
      "execution_count": 29,
      "outputs": [
        {
          "output_type": "stream",
          "name": "stdout",
          "text": [
            "Sparrow can fly high in the sky.\n",
            "Penguin cannot fly, but it swims.\n"
          ]
        }
      ]
    },
    {
      "cell_type": "code",
      "source": [
        "'''Write a program to demonstrate encapsulation by creating a class BankAccount with private attributes\n",
        "balance and methods to deposit, withdraw, and check balance'''\n",
        "\n",
        "class BankAccount:\n",
        "    def __init__(self, initial_balance=0):\n",
        "        self.__balance = initial_balance\n",
        "\n",
        "    def deposit(self, amount):\n",
        "        if amount > 0:\n",
        "            self.__balance += amount\n",
        "            print(f\"Deposited ${amount}. Current balance: ${self.__balance}\")\n",
        "        else:\n",
        "            print(\"Deposit amount must be positive.\")\n",
        "\n",
        "    def withdraw(self, amount):\n",
        "        if amount > 0 and amount <= self.__balance:\n",
        "            self.__balance -= amount\n",
        "            print(f\"Withdrew ${amount}. Current balance: ${self.__balance}\")\n",
        "        else:\n",
        "            print(\"Insufficient funds or invalid withdrawal amount.\")\n",
        "\n",
        "    def check_balance(self):\n",
        "        return f\"Current balance: ${self.__balance}\"\n",
        "\n",
        "account = BankAccount(1000)\n",
        "\n",
        "print(account.check_balance())\n",
        "\n",
        "account.deposit(500)\n",
        "\n",
        "account.withdraw(200)"
      ],
      "metadata": {
        "colab": {
          "base_uri": "https://localhost:8080/"
        },
        "id": "5nv2D53IgK1n",
        "outputId": "8ffc878c-38ce-472d-834d-9c451859e57e"
      },
      "execution_count": 30,
      "outputs": [
        {
          "output_type": "stream",
          "name": "stdout",
          "text": [
            "Current balance: $1000\n",
            "Deposited $500. Current balance: $1500\n",
            "Withdrew $200. Current balance: $1300\n"
          ]
        }
      ]
    },
    {
      "cell_type": "code",
      "source": [
        "'''Demonstrate runtime polymorphism using a method play() in a base class Instrument. Derive classes Guitar\n",
        "and Piano that implement their own version of play()'''\n",
        "\n",
        "class Instrument:\n",
        "    def play(self):\n",
        "        print(\"Playing the instrument\")\n",
        "\n",
        "class Guitar(Instrument):\n",
        "    def play(self):\n",
        "        print(\"Strumming the guitar\")\n",
        "\n",
        "class Piano(Instrument):\n",
        "    def play(self):\n",
        "        print(\"Playing the piano\")\n",
        "\n",
        "def perform_play(instrument):\n",
        "    instrument.play()\n",
        "\n",
        "guitar = Guitar()\n",
        "piano = Piano()\n",
        "\n",
        "perform_play(guitar)\n",
        "perform_play(piano)\n"
      ],
      "metadata": {
        "colab": {
          "base_uri": "https://localhost:8080/"
        },
        "id": "58zah9B-gPUG",
        "outputId": "f8264da9-33b3-4d67-ac5d-e816559b29b4"
      },
      "execution_count": 31,
      "outputs": [
        {
          "output_type": "stream",
          "name": "stdout",
          "text": [
            "Strumming the guitar\n",
            "Playing the piano\n"
          ]
        }
      ]
    },
    {
      "cell_type": "code",
      "source": [
        "'''Create a class MathOperations with a class method add_numbers() to add two numbers and a static\n",
        "method subtract_numbers() to subtract two numbers'''\n",
        "\n",
        "class MathOperations:\n",
        "    @classmethod\n",
        "    def add_numbers(cls, num1, num2):\n",
        "        return num1 + num2\n",
        "\n",
        "    @staticmethod\n",
        "    def subtract_numbers(num1, num2):\n",
        "        return num1 - num2\n",
        "\n",
        "result_addition = MathOperations.add_numbers(5, 3)\n",
        "print(f\"Addition result: {result_addition}\")  # Output: Addition result: 8\n",
        "\n",
        "result_subtraction = MathOperations.subtract_numbers(5, 3)\n",
        "print(f\"Subtraction result: {result_subtraction}\")  # Output: Subtraction result: 2\n"
      ],
      "metadata": {
        "colab": {
          "base_uri": "https://localhost:8080/"
        },
        "id": "TTJndcebhRhK",
        "outputId": "77968296-87ec-4c31-fbf5-7f17c84255fb"
      },
      "execution_count": 32,
      "outputs": [
        {
          "output_type": "stream",
          "name": "stdout",
          "text": [
            "Addition result: 8\n",
            "Subtraction result: 2\n"
          ]
        }
      ]
    },
    {
      "cell_type": "code",
      "source": [
        "'''Implement a class Person with a class method to count the total number of persons created'''\n",
        "\n",
        "class Person:\n",
        "    total_persons = 0\n",
        "\n",
        "    def __init__(self, name, age):\n",
        "        self.name = name\n",
        "        self.age = age\n",
        "        Person.total_persons += 1\n",
        "\n",
        "    @classmethod\n",
        "    def get_total_persons(cls):\n",
        "        return cls.total_persons\n",
        "\n",
        "person1 = Person(\"Alice\", 30)\n",
        "person2 = Person(\"Bob\", 25)\n",
        "person3 = Person(\"Charlie\", 35)\n",
        "\n",
        "print(f\"Total persons created: {Person.get_total_persons()}\")  # Output: Total persons created: 3\n"
      ],
      "metadata": {
        "colab": {
          "base_uri": "https://localhost:8080/"
        },
        "id": "bmQOkrVlhfSI",
        "outputId": "d7980538-cc90-42c9-f05f-61fbd72bb622"
      },
      "execution_count": 33,
      "outputs": [
        {
          "output_type": "stream",
          "name": "stdout",
          "text": [
            "Total persons created: 3\n"
          ]
        }
      ]
    },
    {
      "cell_type": "code",
      "source": [
        "'''Write a class Fraction with attributes numerator and denominator. Override the str method to display the\n",
        "fraction as \"numerator/denominator'''\n",
        "\n",
        "class Fraction:\n",
        "    def __init__(self, numerator, denominator):\n",
        "        self.numerator = numerator\n",
        "        self.denominator = denominator\n",
        "\n",
        "    def __str__(self):\n",
        "        return f\"{self.numerator}/{self.denominator}\"\n",
        "\n",
        "fraction = Fraction(3, 4)\n",
        "\n",
        "print(fraction)"
      ],
      "metadata": {
        "colab": {
          "base_uri": "https://localhost:8080/"
        },
        "id": "WF1hYiw7hq6n",
        "outputId": "9fee4023-7ac5-4a66-af54-97383f3e74ca"
      },
      "execution_count": 34,
      "outputs": [
        {
          "output_type": "stream",
          "name": "stdout",
          "text": [
            "3/4\n"
          ]
        }
      ]
    },
    {
      "cell_type": "code",
      "source": [
        "'''Demonstrate operator overloading by creating a class Vector and overriding the add method to add two\n",
        "vectors'''\n",
        "\n",
        "class Vector:\n",
        "    def __init__(self, x, y):\n",
        "        self.x = x\n",
        "        self.y = y\n",
        "\n",
        "    def __add__(self, other):\n",
        "        return Vector(self.x + other.x, self.y + other.y)\n",
        "\n",
        "    def __str__(self):\n",
        "        return f\"({self.x}, {self.y})\"\n",
        "\n",
        "vector1 = Vector(3, 4)\n",
        "vector2 = Vector(1, 2)\n",
        "\n",
        "result = vector1 + vector2\n",
        "\n",
        "print(\"Result of vector addition:\", result)  # Output: Result of vector addition: (4, 6)\n"
      ],
      "metadata": {
        "colab": {
          "base_uri": "https://localhost:8080/"
        },
        "id": "NRyuxjyPh28W",
        "outputId": "f4493799-7bbd-4a9b-f73b-0c2d4e06a576"
      },
      "execution_count": 35,
      "outputs": [
        {
          "output_type": "stream",
          "name": "stdout",
          "text": [
            "Result of vector addition: (4, 6)\n"
          ]
        }
      ]
    },
    {
      "cell_type": "code",
      "source": [
        "'''Create a class Person with attributes name and age. Add a method greet() that prints \"Hello, my name is\n",
        "{name} and I am {age} years old.'''\n",
        "\n",
        "class Person:\n",
        "    def __init__(self, name, age):\n",
        "        self.name = name\n",
        "        self.age = age\n",
        "\n",
        "    def greet(self):\n",
        "        print(f\"Hello, my name is {self.name} and I am {self.age} years old.\")\n",
        "\n",
        "person = Person(\"Sauptik\", 24)\n",
        "\n",
        "person.greet()\n"
      ],
      "metadata": {
        "colab": {
          "base_uri": "https://localhost:8080/"
        },
        "id": "2eOi4e0diBbt",
        "outputId": "b85e0fd9-1cd0-43aa-e917-36f1c6df15d2"
      },
      "execution_count": 38,
      "outputs": [
        {
          "output_type": "stream",
          "name": "stdout",
          "text": [
            "Hello, my name is Sauptik and I am 24 years old.\n"
          ]
        }
      ]
    },
    {
      "cell_type": "code",
      "source": [
        "'''Implement a class Student with attributes name and grades. Create a method average_grade() to compute\n",
        "the average of the grades'''\n",
        "\n",
        "class Student:\n",
        "    def __init__(self, name, grades):\n",
        "        self.name = name\n",
        "        self.grades = grades\n",
        "\n",
        "    def average_grade(self):\n",
        "        if len(self.grades) > 0:\n",
        "            return sum(self.grades) / len(self.grades)\n",
        "        else:\n",
        "            return 0\n",
        "\n",
        "student = Student(\"Ram\", [85, 90, 78, 92, 88])\n",
        "\n",
        "average = student.average_grade()\n",
        "\n",
        "print(f\"{student.name}'s average grade is: {average}\")  # Output: Alice's average grade is: 86.6"
      ],
      "metadata": {
        "colab": {
          "base_uri": "https://localhost:8080/"
        },
        "id": "WxEKYBCIiOZs",
        "outputId": "c1217ae0-90f2-442d-c38f-3a452fee04e8"
      },
      "execution_count": 40,
      "outputs": [
        {
          "output_type": "stream",
          "name": "stdout",
          "text": [
            "Ram's average grade is: 86.6\n"
          ]
        }
      ]
    },
    {
      "cell_type": "code",
      "source": [
        "'''Create a class Rectangle with methods set_dimensions() to set the dimensions and area() to calculate the\n",
        "area.'''\n",
        "\n",
        "class Rectangle:\n",
        "    def __init__(self):\n",
        "        self.length = 0\n",
        "        self.width = 0\n",
        "\n",
        "    def set_dimensions(self, length, width):\n",
        "        self.length = length\n",
        "        self.width = width\n",
        "\n",
        "    def area(self):\n",
        "        return self.length * self.width\n",
        "\n",
        "rect = Rectangle()\n",
        "\n",
        "rect.set_dimensions(5, 3)\n",
        "\n",
        "print(f\"The area of the rectangle is: {rect.area()}\")  # Output: The area of the rectangle is: 15\n"
      ],
      "metadata": {
        "colab": {
          "base_uri": "https://localhost:8080/"
        },
        "id": "yfMgrc-Xiayj",
        "outputId": "53f79da1-f972-4c62-ba24-5a34bb056ef6"
      },
      "execution_count": 41,
      "outputs": [
        {
          "output_type": "stream",
          "name": "stdout",
          "text": [
            "The area of the rectangle is: 15\n"
          ]
        }
      ]
    },
    {
      "cell_type": "code",
      "source": [
        "'''Create a class Employee with a method calculate_salary() that computes the salary based on hours worked\n",
        "and hourly rate. Create a derived class Manager that adds a bonus to the salary'''\n",
        "\n",
        "class Employee:\n",
        "    def __init__(self, name, hours_worked, hourly_rate):\n",
        "        self.name = name\n",
        "        self.hours_worked = hours_worked\n",
        "        self.hourly_rate = hourly_rate\n",
        "\n",
        "    def calculate_salary(self):\n",
        "        return self.hours_worked * self.hourly_rate\n",
        "\n",
        "class Manager(Employee):\n",
        "    def __init__(self, name, hours_worked, hourly_rate, bonus):\n",
        "        super().__init__(name, hours_worked, hourly_rate)\n",
        "        self.bonus = bonus\n",
        "\n",
        "    def calculate_salary(self):\n",
        "        base_salary = super().calculate_salary()\n",
        "        return base_salary + self.bonus\n",
        "\n",
        "employee = Employee(\"Alice\", 40, 20)\n",
        "\n",
        "manager = Manager(\"Bob\", 40, 25, 500)\n",
        "\n",
        "print(f\"{employee.name}'s salary: ${employee.calculate_salary()}\")\n",
        "print(f\"{manager.name}'s salary: ${manager.calculate_salary()}\")"
      ],
      "metadata": {
        "colab": {
          "base_uri": "https://localhost:8080/"
        },
        "id": "sOzYq13RimVi",
        "outputId": "eaa3b366-ae19-4576-d7ed-9a2164f720ac"
      },
      "execution_count": 43,
      "outputs": [
        {
          "output_type": "stream",
          "name": "stdout",
          "text": [
            "Alice's salary: $800\n",
            "Bob's salary: $1500\n"
          ]
        }
      ]
    },
    {
      "cell_type": "code",
      "source": [
        "'''Create a class Product with attributes name, price, and quantity. Implement a method total_price() that\n",
        "calculates the total price of the product'''\n",
        "\n",
        "class Product:\n",
        "    def __init__(self, name, price, quantity):\n",
        "        self.name = name\n",
        "        self.price = price\n",
        "        self.quantity = quantity\n",
        "\n",
        "    def total_price(self):\n",
        "        return self.price * self.quantity\n",
        "\n",
        "product = Product(\"Laptop\", 1000, 3)\n",
        "\n",
        "print(f\"The total price of {product.name} is: ${product.total_price()}\")  # Output: The total price of Laptop is: $3000\n"
      ],
      "metadata": {
        "colab": {
          "base_uri": "https://localhost:8080/"
        },
        "id": "ahWCVTsti1zy",
        "outputId": "3f8da939-c6c5-4c20-a579-d0a443a64889"
      },
      "execution_count": 44,
      "outputs": [
        {
          "output_type": "stream",
          "name": "stdout",
          "text": [
            "The total price of Laptop is: $3000\n"
          ]
        }
      ]
    },
    {
      "cell_type": "code",
      "source": [
        "'''Create a class Animal with an abstract method sound(). Create two derived classes Cow and Sheep that\n",
        "implement the sound() method'''\n",
        "\n",
        "from abc import ABC, abstractmethod\n",
        "\n",
        "class Animal(ABC):\n",
        "    @abstractmethod\n",
        "    def sound(self):\n",
        "        pass\n",
        "\n",
        "class Cow(Animal):\n",
        "    def sound(self):\n",
        "        return \"Moo\"\n",
        "\n",
        "class Sheep(Animal):\n",
        "    def sound(self):\n",
        "        return \"Baa\"\n",
        "\n",
        "cow = Cow()\n",
        "sheep = Sheep()\n",
        "\n",
        "print(f\"Cow sound: {cow.sound()}\")\n",
        "print(f\"Sheep sound: {sheep.sound()}\")\n"
      ],
      "metadata": {
        "colab": {
          "base_uri": "https://localhost:8080/"
        },
        "id": "-VACAdm2jCuB",
        "outputId": "e0d449c6-2ce0-4369-c8e4-7d6939e4e3c1"
      },
      "execution_count": 46,
      "outputs": [
        {
          "output_type": "stream",
          "name": "stdout",
          "text": [
            "Cow sound: Moo\n",
            "Sheep sound: Baa\n"
          ]
        }
      ]
    },
    {
      "cell_type": "code",
      "source": [
        "'''Create a class Book with attributes title, author, and year_published. Add a method get_book_info() that\n",
        "returns a formatted string with the book's details'''\n",
        "\n",
        "class Book:\n",
        "    def __init__(self, title, author, year_published):\n",
        "        self.title = title\n",
        "        self.author = author\n",
        "        self.year_published = year_published\n",
        "\n",
        "    def get_book_info(self):\n",
        "        return f\"Title: {self.title}\\nAuthor: {self.author}\\nYear Published: {self.year_published}\"\n",
        "\n",
        "book = Book(\"1984\", \"George Orwell\", 1949)\n",
        "\n",
        "print(book.get_book_info())\n"
      ],
      "metadata": {
        "colab": {
          "base_uri": "https://localhost:8080/"
        },
        "id": "h0h4IuMGjO5H",
        "outputId": "ea222331-2e90-43eb-e261-5961a57be1d4"
      },
      "execution_count": 47,
      "outputs": [
        {
          "output_type": "stream",
          "name": "stdout",
          "text": [
            "Title: 1984\n",
            "Author: George Orwell\n",
            "Year Published: 1949\n"
          ]
        }
      ]
    },
    {
      "cell_type": "code",
      "source": [
        "'''Create a class House with attributes address and price. Create a derived class Mansion that adds an\n",
        "attribute number_of_rooms.'''\n",
        "\n",
        "class House:\n",
        "    def __init__(self, address, price):\n",
        "        self.address = address\n",
        "        self.price = price\n",
        "\n",
        "    def get_details(self):\n",
        "        return f\"Address: {self.address}\\nPrice: ${self.price}\"\n",
        "\n",
        "class Mansion(House):\n",
        "    def __init__(self, address, price, number_of_rooms):\n",
        "        super().__init__(address, price)\n",
        "        self.number_of_rooms = number_of_rooms\n",
        "\n",
        "    def get_mansion_details(self):\n",
        "        base_details = self.get_details()\n",
        "        return f\"{base_details}\\nNumber of Rooms: {self.number_of_rooms}\"\n",
        "\n",
        "house = House(\"123 Main St\", 250000)\n",
        "\n",
        "mansion = Mansion(\"456 Luxury Ln\", 5000000, 20)\n",
        "\n",
        "print(\"House Details:\")\n",
        "print(house.get_details())\n",
        "\n",
        "print(\"\\nMansion Details:\")\n",
        "print(mansion.get_mansion_details())\n"
      ],
      "metadata": {
        "colab": {
          "base_uri": "https://localhost:8080/"
        },
        "id": "S7Z5d7lIjbue",
        "outputId": "02470080-ec6f-4a4a-8c01-0ee7874c585c"
      },
      "execution_count": 48,
      "outputs": [
        {
          "output_type": "stream",
          "name": "stdout",
          "text": [
            "House Details:\n",
            "Address: 123 Main St\n",
            "Price: $250000\n",
            "\n",
            "Mansion Details:\n",
            "Address: 456 Luxury Ln\n",
            "Price: $5000000\n",
            "Number of Rooms: 20\n"
          ]
        }
      ]
    }
  ]
}