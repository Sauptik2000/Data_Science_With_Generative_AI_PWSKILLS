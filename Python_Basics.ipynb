{
  "nbformat": 4,
  "nbformat_minor": 0,
  "metadata": {
    "colab": {
      "provenance": []
    },
    "kernelspec": {
      "name": "python3",
      "display_name": "Python 3"
    },
    "language_info": {
      "name": "python"
    }
  },
  "cells": [
    {
      "cell_type": "markdown",
      "source": [
        "#Python Basics\n",
        "\n",
        "\n"
      ],
      "metadata": {
        "id": "kYjL5_VTEUPU"
      }
    },
    {
      "cell_type": "markdown",
      "source": [
        "1.   **What is Python, and why is it popular**\n",
        "- Python is a high-level, interpreted programming language created by Guido van Rossum in 1991.It is Known for its simple and readable syntax, Python is easy for beginners to learn and use. It is versatile, used in web development, data analysis, machine learning, automation, and more.\n",
        "- **It is popular because:**\n",
        "    - * Simple and Readable: Python's clean syntax allows developers to write less code and focus on solving problems.\n",
        "    - * Wide Range of Applications: Python is used in web development, data science, automation, artificial intelligence, and more.\n",
        "    - * Large Community: A vast number of developers contribute to libraries, frameworks, and offer support.\n",
        "    - * Cross-Platform: Python runs on multiple operating systems, making it accessible to a wide range of users.\n",
        "    - * Rich Ecosystem: Python has extensive libraries and frameworks, making it easy to implement complex tasks quickly.\n",
        "\n"
      ],
      "metadata": {
        "id": "Zc_u7IU3E8hP"
      }
    },
    {
      "cell_type": "markdown",
      "source": [
        "2. **What is an interpreter in Python**\n",
        "- An interpreter in Python is a program that reads and executes Python code line by line. Unlike a compiler, which translates the entire program into machine code at once, the interpreter directly executes the instructions written in Python.\n",
        "  \n",
        "  This allows for:\n",
        "\n",
        "  - Interactive execution: You can run code immediately without needing to compile it first.\n",
        "  - Portability: Python code can run on any system that has the Python interpreter installed.\n",
        "  - Error detection: The interpreter stops execution at the point of an error, making it easier to debug."
      ],
      "metadata": {
        "id": "o4Y7oFlsH3qE"
      }
    },
    {
      "cell_type": "markdown",
      "source": [
        "3. **What are pre-defined keywords in Python**\n",
        "- **Pre-defined keywords** in Python are reserved words that have special meaning and are part of the language's syntax. These keywords cannot be used as identifiers (e.g., variable names or function names) because they are used to define the structure and behavior of Python code.\n",
        "\n",
        "  Examples of Python keywords include:\n",
        "  - `if`, `else`, `elif` (used for conditional statements)\n",
        "  - `def` (used to define functions)\n",
        "  - `class` (used to define classes)\n",
        "  - `import` (used to import modules)\n",
        "  - `True`, `False`, `None` (used for boolean values and null)"
      ],
      "metadata": {
        "id": "ygxfMe-5ErcE"
      }
    },
    {
      "cell_type": "markdown",
      "source": [
        "4. **Can keywords be used as variable names**\n",
        "- No, keywords cannot be used as variable names in Python. Keywords are reserved words that have special meanings in the language, and using them as variable names would cause a syntax error. For example, you cannot use if, while, class, or def as variable names."
      ],
      "metadata": {
        "id": "duJ_KGcuGCpp"
      }
    },
    {
      "cell_type": "markdown",
      "source": [
        "5. **What is mutability in Python**\n",
        "- Mutability in Python refers to whether an object can be modified after it is created.\n",
        "\n",
        "  - Mutable objects can be changed, such as lists, dictionaries, and sets.\n",
        "  - Immutable objects cannot be changed, such as strings, tuples, and integers."
      ],
      "metadata": {
        "id": "FPJM-zApGYyd"
      }
    },
    {
      "cell_type": "markdown",
      "source": [
        "6. **Why are lists mutable, but tuples are immutable**\n",
        "- **Lists** are **mutable** because they are designed to allow modifications (like adding, removing, or changing elements) during program execution, making them flexible for dynamic data.\n",
        "\n",
        "- **Tuples**, on the other hand, are **immutable** to provide a **fixed, unchangeable collection**. This immutability ensures they are safer for use in situations where the data should remain constant, like as keys in dictionaries or in scenarios requiring guaranteed consistency."
      ],
      "metadata": {
        "id": "LCEYS-mvHRlw"
      }
    },
    {
      "cell_type": "markdown",
      "source": [
        "7. **What is the difference between “==” and “is” operators in Python**\n",
        "- In Python, the **`==`** and **`is`** operators are used for comparison, but they have different purposes:\n",
        "\n",
        "- **==**: Checks if the **values** of two objects are equal.\n",
        "  - It compares the contents of the objects.\n",
        "  - Example:\n",
        "      a = [1, 2], b = [1, 2], print(a == b)==>True, because the values are the same.\n",
        "\n",
        "- **is**: Checks if two objects refer to the **same object** in memory (i.e., if they have the same **identity**).\n",
        "  - It compares the memory location of the objects.\n",
        "  - Example:\n",
        "    a = [1, 2], b = [1, 2], print(a is b)==>False, because they are two different objects in memory\n",
        "\n",
        "  In short, == checks for equality of values, while is checks for identity (whether the two objects are the same in memory)."
      ],
      "metadata": {
        "id": "beAq8xsJHiUs"
      }
    },
    {
      "cell_type": "markdown",
      "source": [
        "8. **What are logical operators in Python**\n",
        "- **Logical operators** in Python are used to combine conditional statements and return a boolean result (True or False). The three main logical operators are:\n",
        "\n",
        "  1. **and**: Returns `True` if both conditions are true.\n",
        "   - Example: `True and False` returns `False`.\n",
        "\n",
        "  2. **or**: Returns `True` if at least one condition is true.\n",
        "   - Example: `True or False` returns `True`.\n",
        "\n",
        "  3. **not**: Reverses the boolean value of a condition.\n",
        "   - Example: `not True` returns `False`.\n",
        "\n",
        "  These operators are typically used to create complex conditions in if statements or loops."
      ],
      "metadata": {
        "id": "wmUceKF6IT0u"
      }
    },
    {
      "cell_type": "markdown",
      "source": [
        "9. **What is type casting in Python**\n",
        "- **Type casting** in Python is the conversion of one data type to another.\n",
        "\n",
        "- **Implicit casting** happens automatically when Python converts types (e.g., int to float).\n",
        "- **Explicit casting** requires using functions like `int()`, `float()`, or `str()` to manually convert types.\n",
        "\n",
        "  Example:\n",
        "  ```python\n",
        "  x = 5        # int\n",
        "  y = float(x) # explicit casting to float\n",
        "  ```\n",
        "In short, type casting enables type conversions for compatibility in operations."
      ],
      "metadata": {
        "id": "Y0r6H5W7I2cq"
      }
    },
    {
      "cell_type": "markdown",
      "source": [
        "10. **What is the difference between implicit and explicit type casting**\n",
        "- The difference between **implicit** and **explicit** type casting in Python is:\n",
        "\n",
        "- **Implicit Type Casting** (Automatic):\n",
        "  - Python automatically converts a smaller data type to a larger one (e.g., `int` to `float`).\n",
        "  - Happens **implicitly** without the programmer's intervention.\n",
        "  - Example:\n",
        "    ```python\n",
        "    x = 5   # int\n",
        "    y = 2.5 # float\n",
        "    result = x + y  # x is automatically converted to float\n",
        "    ```\n",
        "\n",
        "- **Explicit Type Casting** (Manual):\n",
        "  - The programmer manually converts a data type using functions like `int()`, `float()`, `str()`, etc.\n",
        "  - Example:\n",
        "    ```python\n",
        "    x = \"123\"      # string\n",
        "    y = int(x)     # explicitly cast string to int\n",
        "    ```\n"
      ],
      "metadata": {
        "id": "gWktOP9IJP3L"
      }
    },
    {
      "cell_type": "markdown",
      "source": [
        "11. **What is the purpose of conditional statements in Python**\n",
        "- Conditional statements in Python allow you to execute specific blocks of code based on whether a condition is True or False. They help in making decisions within a program.\n",
        "\n",
        "  The primary conditional statements in Python are:\n",
        "\n",
        "  - if: Executes a block of code if the condition is True.\n",
        "  - elif: Checks another condition if the previous if or elif was False.\n",
        "  - else: Executes a block of code if all previous conditions are False."
      ],
      "metadata": {
        "id": "0FL3ZUk0JzKK"
      }
    },
    {
      "cell_type": "markdown",
      "source": [
        "12. **How does the elif statement work**\n",
        "- The elif (short for \"else if\") statement in Python is used to check multiple conditions after an initial if statement. It allows you to specify additional conditions to be checked if the previous if or elif conditions were False.\n",
        "\n",
        "  - If the **if** condition is False, Python checks the elif conditions one by one in order.\n",
        "  - If an **elif** condition is True, the associated block of code is executed, and the rest of the elif or else statements are skipped."
      ],
      "metadata": {
        "id": "uRRZm6ekKRZo"
      }
    },
    {
      "cell_type": "markdown",
      "source": [
        "13. **What is the difference between for and while loops**\n",
        "- The main difference between **`for`** and **`while`** loops in Python is how they control the flow of iteration:\n",
        "\n",
        "- **for loop**:\n",
        "  - Used to iterate over a **sequence** (like a list, tuple, string, or range).\n",
        "  - The number of iterations is usually known in advance.\n",
        "  - Example:\n",
        "    ```python\n",
        "    for i in range(5):\n",
        "        print(i)  # Prints 0, 1, 2, 3, 4\n",
        "    ```\n",
        "\n",
        "- **while loop**:\n",
        "  - Repeats as long as a **condition** is **True**.\n",
        "  - The number of iterations is not necessarily known in advance and depends on the condition.\n",
        "  - Example:\n",
        "    ```python\n",
        "    i = 0\n",
        "    while i < 5:\n",
        "        print(i)\n",
        "        i += 1  # Prints 0, 1, 2, 3, 4\n",
        "    ```\n",
        "\n",
        "  In short, **`for`** loops are used when the number of iterations is known, while **`while`** loops are used when the number of iterations depends on a condition."
      ],
      "metadata": {
        "id": "dy0Z87m8K3m5"
      }
    },
    {
      "cell_type": "markdown",
      "source": [
        "14. **Describe a scenario where a while loop is more suitable than a for loop**\n",
        "- A **while loop** is more suitable than a **for loop** when the number of iterations is not known in advance and depends on a dynamic condition that might change during execution.\n",
        "\n",
        "- Example Scenario:\n",
        "If we're writing a program that keeps asking a user for input until they provide a valid response (e.g., a number between 1 and 10), a **while loop** is ideal because the loop will continue until the user meets the condition.\n",
        "\n",
        "  ```python\n",
        "user_input = 0\n",
        "while not (1 <= user_input <= 10):\n",
        "    user_input = int(input(\"Enter a number between 1 and 10: \"))\n",
        "  ```\n",
        "\n",
        "  In this case, the number of iterations is unknown because it depends on when the user provides valid input. A **while loop** allows you to keep checking the condition until it's met."
      ],
      "metadata": {
        "id": "a-fTymiJLQ2P"
      }
    },
    {
      "cell_type": "code",
      "source": [
        "# 1.Write a Python program to print \"Hello, World!\n",
        "\n",
        "print('Hello World!')"
      ],
      "metadata": {
        "colab": {
          "base_uri": "https://localhost:8080/"
        },
        "id": "QU_-dk8MMPuW",
        "outputId": "76467e79-a872-45a8-e629-94354627c78b"
      },
      "execution_count": 23,
      "outputs": [
        {
          "output_type": "stream",
          "name": "stdout",
          "text": [
            "Hello World!\n"
          ]
        }
      ]
    },
    {
      "cell_type": "code",
      "source": [
        "# 2.Write a Python program that displays your name and age\n",
        "\n",
        "print('My Name is Sauptik and my age is 24')"
      ],
      "metadata": {
        "colab": {
          "base_uri": "https://localhost:8080/"
        },
        "id": "hyYJnkP7Mrmb",
        "outputId": "6086d7ce-59b7-44e4-93aa-578f3f60a9c7"
      },
      "execution_count": 24,
      "outputs": [
        {
          "output_type": "stream",
          "name": "stdout",
          "text": [
            "My Name is Sauptik and my age is 24\n"
          ]
        }
      ]
    },
    {
      "cell_type": "code",
      "source": [
        "# 3.Write code to print all the pre-defined keywords in Python using the keyword library\n",
        "\n",
        "import keyword\n",
        "\n",
        "print(keyword.kwlist)"
      ],
      "metadata": {
        "colab": {
          "base_uri": "https://localhost:8080/"
        },
        "id": "8D4cJJcfMv6k",
        "outputId": "390164c1-68ce-4791-f5cf-643d3285d271"
      },
      "execution_count": 25,
      "outputs": [
        {
          "output_type": "stream",
          "name": "stdout",
          "text": [
            "['False', 'None', 'True', 'and', 'as', 'assert', 'async', 'await', 'break', 'class', 'continue', 'def', 'del', 'elif', 'else', 'except', 'finally', 'for', 'from', 'global', 'if', 'import', 'in', 'is', 'lambda', 'nonlocal', 'not', 'or', 'pass', 'raise', 'return', 'try', 'while', 'with', 'yield']\n"
          ]
        }
      ]
    },
    {
      "cell_type": "code",
      "source": [
        "# 4.Write a program that checks if a given word is a Python keyword\n",
        "\n",
        "import keyword\n",
        "\n",
        "def is_keyword(word):\n",
        "    return keyword.iskeyword(word)\n",
        "\n",
        "word = input(\"Enter a word to check if it's a Python keyword: \")\n",
        "\n",
        "if is_keyword(word):\n",
        "    print(f\"'{word}' is a Python keyword.\")\n",
        "else:\n",
        "    print(f\"'{word}' is NOT a Python keyword.\")\n",
        ""
      ],
      "metadata": {
        "colab": {
          "base_uri": "https://localhost:8080/"
        },
        "id": "t46_3GglM9yr",
        "outputId": "86e42058-0f9b-4781-c572-8a1e88546abd"
      },
      "execution_count": 26,
      "outputs": [
        {
          "output_type": "stream",
          "name": "stdout",
          "text": [
            "Enter a word to check if it's a Python keyword: ture\n",
            "'ture' is NOT a Python keyword.\n"
          ]
        }
      ]
    },
    {
      "cell_type": "code",
      "source": [
        "# 5.Create a list and tuple in Python, and demonstrate how attempting to change an element works differently for each.\n",
        "\n",
        "my_list = [1, 2, 3]\n",
        "my_tuple = (1, 2, 3)\n",
        "\n",
        "my_list[0] = 10\n",
        "print(\"Updated List:\", my_list)\n",
        "\n",
        "try:\n",
        "    my_tuple[0] = 10\n",
        "except TypeError as e:\n",
        "    print(\"Error while modifying tuple:\", e)\n"
      ],
      "metadata": {
        "colab": {
          "base_uri": "https://localhost:8080/"
        },
        "id": "0cYWGhJRNQCV",
        "outputId": "cfd98492-5473-44fc-afa1-2af183b4fa66"
      },
      "execution_count": 28,
      "outputs": [
        {
          "output_type": "stream",
          "name": "stdout",
          "text": [
            "Updated List: [10, 2, 3]\n",
            "Error while modifying tuple: 'tuple' object does not support item assignment\n"
          ]
        }
      ]
    },
    {
      "cell_type": "code",
      "source": [
        "# 6.Write a function to demonstrate the behavior of mutable and immutable arguments.\n",
        "\n",
        "def modify_args(immutable_arg, mutable_arg):\n",
        "    immutable_arg = \"Changed\"\n",
        "    mutable_arg.append(4)\n",
        "\n",
        "    print(\"Inside function:\")\n",
        "    print(\"Immutable:\", immutable_arg)\n",
        "    print(\"Mutable:\", mutable_arg)\n",
        "\n",
        "immutable_value = \"Original\"\n",
        "mutable_value = [1, 2, 3]\n",
        "\n",
        "modify_args(immutable_value, mutable_value)\n",
        "\n",
        "print(\"\\nOutside function:\")\n",
        "print(\"Immutable:\", immutable_value)\n",
        "print(\"Mutable:\", mutable_value)\n"
      ],
      "metadata": {
        "colab": {
          "base_uri": "https://localhost:8080/"
        },
        "id": "mO9azEqSNvCC",
        "outputId": "da2a2123-57c9-428a-a9e2-095257a69024"
      },
      "execution_count": 29,
      "outputs": [
        {
          "output_type": "stream",
          "name": "stdout",
          "text": [
            "Inside function:\n",
            "Immutable: Changed\n",
            "Mutable: [1, 2, 3, 4]\n",
            "\n",
            "Outside function:\n",
            "Immutable: Original\n",
            "Mutable: [1, 2, 3, 4]\n"
          ]
        }
      ]
    },
    {
      "cell_type": "code",
      "source": [
        "# 7.Write a program that performs basic arithmetic operations on two user-input numbers.\n",
        "\n",
        "num1 = float(input(\"Enter the first number: \"))\n",
        "num2 = float(input(\"Enter the second number: \"))\n",
        "\n",
        "addition = num1 + num2\n",
        "subtraction = num1 - num2\n",
        "multiplication = num1 * num2\n",
        "division = num1 / num2  # No division by zero check\n",
        "\n",
        "print(\"\\nResults:\")\n",
        "print(f\"Addition: {num1} + {num2} = {addition}\")\n",
        "print(f\"Subtraction: {num1} - {num2} = {subtraction}\")\n",
        "print(f\"Multiplication: {num1} * {num2} = {multiplication}\")\n",
        "print(f\"Division: {num1} / {num2} = {division}\")\n"
      ],
      "metadata": {
        "colab": {
          "base_uri": "https://localhost:8080/"
        },
        "id": "IusxdG8KPqBq",
        "outputId": "e9dde818-6ac7-4d9d-ee06-0b6b3185c2db"
      },
      "execution_count": 30,
      "outputs": [
        {
          "output_type": "stream",
          "name": "stdout",
          "text": [
            "Enter the first number: 5\n",
            "Enter the second number: 2\n",
            "\n",
            "Results:\n",
            "Addition: 5.0 + 2.0 = 7.0\n",
            "Subtraction: 5.0 - 2.0 = 3.0\n",
            "Multiplication: 5.0 * 2.0 = 10.0\n",
            "Division: 5.0 / 2.0 = 2.5\n"
          ]
        }
      ]
    },
    {
      "cell_type": "code",
      "source": [
        "# 8.Write a program to demonstrate the use of logical operators\n",
        "\n",
        "age = int(input(\"Enter your age: \"))\n",
        "income = float(input(\"Enter your income: \"))\n",
        "\n",
        "# Checking if the person is eligible for a loan (age >= 18 and income >= 50000)\n",
        "if age >= 18 and income >= 50000:\n",
        "    print(\"You are eligible for a loan.\")\n",
        "\n",
        "# Checking if the person is eligible for a discount (age < 18 or income < 20000)\n",
        "if age < 18 or income < 20000:\n",
        "    print(\"You are eligible for a discount.\")\n",
        "\n",
        "# Using the 'not' logical operator to reverse a condition\n",
        "if not (age < 18):\n",
        "    print(\"You are an adult.\")\n"
      ],
      "metadata": {
        "colab": {
          "base_uri": "https://localhost:8080/"
        },
        "id": "lMY1lT-_QIxI",
        "outputId": "10137c04-4249-4f50-a1bf-b8779e90f2e4"
      },
      "execution_count": 13,
      "outputs": [
        {
          "output_type": "stream",
          "name": "stdout",
          "text": [
            "Enter your age: 24\n",
            "Enter your income: 450000\n",
            "You are eligible for a loan.\n",
            "You are an adult.\n"
          ]
        }
      ]
    },
    {
      "cell_type": "code",
      "source": [
        "# 9.Write a Python program to convert user input from string to integer, float, and boolean types.\n",
        "\n",
        "user_input = input(\"Enter a value: \")\n",
        "\n",
        "integer_value = int(user_input)  # Convert to integer\n",
        "float_value = float(user_input)  # Convert to float\n",
        "boolean_value = bool(user_input)  # Convert to boolean\n",
        "\n",
        "print(\"Converted to Integer:\", integer_value)\n",
        "print(\"Converted to Float:\", float_value)\n",
        "print(\"Converted to Boolean:\", boolean_value)\n"
      ],
      "metadata": {
        "colab": {
          "base_uri": "https://localhost:8080/"
        },
        "id": "YUxZj7UzQsfb",
        "outputId": "569d0033-5f9d-4975-a451-b280c3d455d8"
      },
      "execution_count": 14,
      "outputs": [
        {
          "output_type": "stream",
          "name": "stdout",
          "text": [
            "Enter a value: 9\n",
            "Converted to Integer: 9\n",
            "Converted to Float: 9.0\n",
            "Converted to Boolean: True\n"
          ]
        }
      ]
    },
    {
      "cell_type": "code",
      "source": [
        "# 10.Write code to demonstrate type casting with list elements\n",
        "\n",
        "mixed_list = ['1', '3.14', 'True']\n",
        "\n",
        "int_value = int(mixed_list[0])  # Convert string to int\n",
        "float_value = float(mixed_list[1])  # Convert string to float\n",
        "bool_value = bool(mixed_list[2])  # Convert string to bool\n",
        "\n",
        "print(\"Integer:\", int_value)\n",
        "print(\"Float:\", float_value)\n",
        "print('Boolean:', bool_value)"
      ],
      "metadata": {
        "colab": {
          "base_uri": "https://localhost:8080/"
        },
        "id": "JUy4-GMHRGAZ",
        "outputId": "89c7d3ca-a6c6-4e97-d8e3-9dc0fd2c38a8"
      },
      "execution_count": 16,
      "outputs": [
        {
          "output_type": "stream",
          "name": "stdout",
          "text": [
            "Integer: 1\n",
            "Float: 3.14\n",
            "Boolean: True\n"
          ]
        }
      ]
    },
    {
      "cell_type": "code",
      "source": [
        "# 11.Write a program that checks if a number is positive, negative, or zero.\n",
        "\n",
        "num = float(input(\"Enter a number: \"))\n",
        "\n",
        "if num > 0:\n",
        "    print(\"The number is positive.\")\n",
        "elif num < 0:\n",
        "    print(\"The number is negative.\")\n",
        "else:\n",
        "    print(\"The number is zero.\")\n"
      ],
      "metadata": {
        "colab": {
          "base_uri": "https://localhost:8080/"
        },
        "id": "GEL9j8p1RrQw",
        "outputId": "b33e3cd0-11f0-4629-bebb-69279cca90b1"
      },
      "execution_count": 18,
      "outputs": [
        {
          "output_type": "stream",
          "name": "stdout",
          "text": [
            "Enter a number: 2.4\n",
            "The number is positive.\n"
          ]
        }
      ]
    },
    {
      "cell_type": "code",
      "source": [
        "# 12.Write a for loop to print numbers from 1 to 10\n",
        "\n",
        "for num in range(1, 11):\n",
        "    print(num)"
      ],
      "metadata": {
        "colab": {
          "base_uri": "https://localhost:8080/"
        },
        "id": "KLHNyFKxSD6O",
        "outputId": "61da2895-666d-4b18-84d0-e5f9a38048d0"
      },
      "execution_count": 19,
      "outputs": [
        {
          "output_type": "stream",
          "name": "stdout",
          "text": [
            "1\n",
            "2\n",
            "3\n",
            "4\n",
            "5\n",
            "6\n",
            "7\n",
            "8\n",
            "9\n",
            "10\n"
          ]
        }
      ]
    },
    {
      "cell_type": "code",
      "source": [
        "# 13.Write a Python program to find the sum of all even numbers between 1 and 50.\n",
        "\n",
        "sum_even = 0\n",
        "\n",
        "for num in range(1, 51):\n",
        "    if num % 2 == 0:\n",
        "        sum_even += num\n",
        "\n",
        "print(\"The sum of all even numbers between 1 and 50 is:\", sum_even)\n"
      ],
      "metadata": {
        "colab": {
          "base_uri": "https://localhost:8080/"
        },
        "id": "ur2vlmOwShW_",
        "outputId": "63eb7575-5385-4809-d1e0-c99a66ade5af"
      },
      "execution_count": 20,
      "outputs": [
        {
          "output_type": "stream",
          "name": "stdout",
          "text": [
            "The sum of all even numbers between 1 and 50 is: 650\n"
          ]
        }
      ]
    },
    {
      "cell_type": "code",
      "source": [
        "# 14.Write a program to reverse a string using a while loop.\n",
        "\n",
        "input_string = input(\"Enter a string: \")\n",
        "reversed_string = \"\"\n",
        "\n",
        "index = len(input_string) - 1\n",
        "\n",
        "while index >= 0:\n",
        "    reversed_string += input_string[index]\n",
        "    index -= 1\n",
        "\n",
        "print(\"Reversed string:\", reversed_string)\n"
      ],
      "metadata": {
        "colab": {
          "base_uri": "https://localhost:8080/"
        },
        "id": "bsI_jtDAS8Nc",
        "outputId": "74d89b13-e8bf-4bda-d038-1361e6fb4410"
      },
      "execution_count": 21,
      "outputs": [
        {
          "output_type": "stream",
          "name": "stdout",
          "text": [
            "Enter a string: Sauptik\n",
            "Reversed string: kitpuaS\n"
          ]
        }
      ]
    },
    {
      "cell_type": "code",
      "source": [
        "# 15.Write a Python program to calculate the factorial of a number provided by the user using a while loop.\n",
        "\n",
        "num = int(input(\"Enter a number to calculate its factorial: \"))\n",
        "\n",
        "factorial = 1\n",
        "\n",
        "i = 1\n",
        "while i <= num:\n",
        "    factorial *= i\n",
        "    i += 1\n",
        "\n",
        "print(f\"The factorial of {num} is: {factorial}\")\n"
      ],
      "metadata": {
        "colab": {
          "base_uri": "https://localhost:8080/"
        },
        "id": "vToV3yXZTokl",
        "outputId": "a452389d-ec48-4ec4-b913-c0a33a12b874"
      },
      "execution_count": 22,
      "outputs": [
        {
          "output_type": "stream",
          "name": "stdout",
          "text": [
            "Enter a number to calculate its factorial: 3\n",
            "The factorial of 3 is: 6\n"
          ]
        }
      ]
    }
  ]
}